{
 "cells": [
  {
   "cell_type": "code",
   "execution_count": 162,
   "metadata": {},
   "outputs": [],
   "source": [
    "import pickle\n",
    "import datetime\n",
    "import pandas as pd\n",
    "import numpy as np\n",
    "import itertools\n",
    "from matplotlib import pyplot as plt\n",
    "from tqdm import tqdm\n",
    "from datetime import timedelta\n",
    "from importlib import reload\n",
    "import utils\n",
    "from sklearn.compose import ColumnTransformer\n",
    "import column_transforms"
   ]
  },
  {
   "cell_type": "code",
   "execution_count": 163,
   "metadata": {},
   "outputs": [],
   "source": [
    "from sklearn.metrics import mean_squared_error\n",
    "from sklearn.linear_model import LinearRegression\n",
    "from sklearn.linear_model import LassoCV\n",
    "from sklearn.ensemble import RandomForestRegressor\n",
    "import xgboost as xgb\n",
    "\n",
    "import tensorflow as tf\n",
    "from tensorflow.keras.models import Sequential\n",
    "from tensorflow.keras.layers import LSTM, Dense"
   ]
  },
  {
   "cell_type": "code",
   "execution_count": 164,
   "metadata": {},
   "outputs": [],
   "source": [
    "import shap\n",
    "import catboost as cb\n",
    "from catboost import CatBoostRegressor, EShapCalcType, EFeaturesSelectionAlgorithm"
   ]
  },
  {
   "cell_type": "code",
   "execution_count": 165,
   "metadata": {},
   "outputs": [],
   "source": [
    "BASE_PATH = \"/Users/thibaut/Desktop\""
   ]
  },
  {
   "cell_type": "markdown",
   "metadata": {},
   "source": [
    "## Data loading"
   ]
  },
  {
   "cell_type": "code",
   "execution_count": 166,
   "metadata": {},
   "outputs": [],
   "source": [
    "df = pd.read_csv(f\"{BASE_PATH}/230K_hw2/features.csv\", index_col=[0,1])\n",
    "df.index = pd.MultiIndex.from_arrays(\n",
    "    [pd.to_datetime(df.index.get_level_values(0)).date, df.index.get_level_values(1)]\n",
    ")"
   ]
  },
  {
   "cell_type": "markdown",
   "metadata": {},
   "source": [
    "Last five years are out of sample and a two year period preceding the out of sample period is used for validation. The ends are exclusive.\n"
   ]
  },
  {
   "cell_type": "code",
   "execution_count": 167,
   "metadata": {},
   "outputs": [],
   "source": [
    "beginning_oos = end_validation = datetime.date(2017, 2, 28)\n",
    "end_oos = datetime.date(2022, 3, 31)\n",
    "beginning_validation = beginning_oos - timedelta(days=365*2)\n",
    "\n",
    "beginning_train = df.index.get_level_values(0)[0]"
   ]
  },
  {
   "cell_type": "code",
   "execution_count": 240,
   "metadata": {},
   "outputs": [
    {
     "data": {
      "text/html": [
       "<div>\n",
       "<style scoped>\n",
       "    .dataframe tbody tr th:only-of-type {\n",
       "        vertical-align: middle;\n",
       "    }\n",
       "\n",
       "    .dataframe tbody tr th {\n",
       "        vertical-align: top;\n",
       "    }\n",
       "\n",
       "    .dataframe thead th {\n",
       "        text-align: right;\n",
       "    }\n",
       "</style>\n",
       "<table border=\"1\" class=\"dataframe\">\n",
       "  <thead>\n",
       "    <tr style=\"text-align: right;\">\n",
       "      <th></th>\n",
       "      <th></th>\n",
       "      <th>log_size</th>\n",
       "      <th>log_bm</th>\n",
       "      <th>log_pcf</th>\n",
       "      <th>mom</th>\n",
       "      <th>strev</th>\n",
       "      <th>vol</th>\n",
       "      <th>roa</th>\n",
       "      <th>roe</th>\n",
       "      <th>log_age_lb</th>\n",
       "      <th>price</th>\n",
       "      <th>...</th>\n",
       "      <th>roe_rel_diff</th>\n",
       "      <th>log_to_rel_diff</th>\n",
       "      <th>ols_3m_d_rel_diff</th>\n",
       "      <th>log_price</th>\n",
       "      <th>log_size_diff</th>\n",
       "      <th>log_bm_diff</th>\n",
       "      <th>log_pcf_diff</th>\n",
       "      <th>log_age_lb_diff</th>\n",
       "      <th>log_price_diff</th>\n",
       "      <th>log_to_diff</th>\n",
       "    </tr>\n",
       "    <tr>\n",
       "      <th></th>\n",
       "      <th>permno</th>\n",
       "      <th></th>\n",
       "      <th></th>\n",
       "      <th></th>\n",
       "      <th></th>\n",
       "      <th></th>\n",
       "      <th></th>\n",
       "      <th></th>\n",
       "      <th></th>\n",
       "      <th></th>\n",
       "      <th></th>\n",
       "      <th></th>\n",
       "      <th></th>\n",
       "      <th></th>\n",
       "      <th></th>\n",
       "      <th></th>\n",
       "      <th></th>\n",
       "      <th></th>\n",
       "      <th></th>\n",
       "      <th></th>\n",
       "      <th></th>\n",
       "      <th></th>\n",
       "    </tr>\n",
       "  </thead>\n",
       "  <tbody>\n",
       "    <tr>\n",
       "      <th rowspan=\"5\" valign=\"top\">2017-02-28</th>\n",
       "      <th>10026</th>\n",
       "      <td>7.825365</td>\n",
       "      <td>-1.283738</td>\n",
       "      <td>2.983457</td>\n",
       "      <td>0.154731</td>\n",
       "      <td>0.048836</td>\n",
       "      <td>0.045597</td>\n",
       "      <td>0.202</td>\n",
       "      <td>0.116</td>\n",
       "      <td>3.434694</td>\n",
       "      <td>133.80</td>\n",
       "      <td>...</td>\n",
       "      <td>-0.027272</td>\n",
       "      <td>-1.221718</td>\n",
       "      <td>0.170229</td>\n",
       "      <td>4.896346</td>\n",
       "      <td>0.047698</td>\n",
       "      <td>-0.109324</td>\n",
       "      <td>0.054132</td>\n",
       "      <td>0.002476</td>\n",
       "      <td>0.047681</td>\n",
       "      <td>-0.063355</td>\n",
       "    </tr>\n",
       "    <tr>\n",
       "      <th>10032</th>\n",
       "      <td>7.543856</td>\n",
       "      <td>-0.669431</td>\n",
       "      <td>2.318458</td>\n",
       "      <td>0.400234</td>\n",
       "      <td>0.032596</td>\n",
       "      <td>0.066954</td>\n",
       "      <td>0.100</td>\n",
       "      <td>0.101</td>\n",
       "      <td>3.434694</td>\n",
       "      <td>56.07</td>\n",
       "      <td>...</td>\n",
       "      <td>-0.042272</td>\n",
       "      <td>-0.918443</td>\n",
       "      <td>0.012196</td>\n",
       "      <td>4.026601</td>\n",
       "      <td>0.032112</td>\n",
       "      <td>-0.134995</td>\n",
       "      <td>-0.277319</td>\n",
       "      <td>0.002476</td>\n",
       "      <td>0.032077</td>\n",
       "      <td>0.105779</td>\n",
       "    </tr>\n",
       "    <tr>\n",
       "      <th>10104</th>\n",
       "      <td>12.070935</td>\n",
       "      <td>-1.224176</td>\n",
       "      <td>2.452383</td>\n",
       "      <td>0.101789</td>\n",
       "      <td>0.061832</td>\n",
       "      <td>0.045848</td>\n",
       "      <td>0.138</td>\n",
       "      <td>0.189</td>\n",
       "      <td>3.431952</td>\n",
       "      <td>42.59</td>\n",
       "      <td>...</td>\n",
       "      <td>0.045728</td>\n",
       "      <td>2.821430</td>\n",
       "      <td>-0.464100</td>\n",
       "      <td>3.751619</td>\n",
       "      <td>0.059994</td>\n",
       "      <td>0.000000</td>\n",
       "      <td>0.000000</td>\n",
       "      <td>0.002483</td>\n",
       "      <td>0.059994</td>\n",
       "      <td>-0.027495</td>\n",
       "    </tr>\n",
       "    <tr>\n",
       "      <th>10107</th>\n",
       "      <td>13.111115</td>\n",
       "      <td>-1.924149</td>\n",
       "      <td>2.593088</td>\n",
       "      <td>0.259474</td>\n",
       "      <td>-0.004388</td>\n",
       "      <td>0.050434</td>\n",
       "      <td>0.165</td>\n",
       "      <td>0.249</td>\n",
       "      <td>3.431952</td>\n",
       "      <td>63.98</td>\n",
       "      <td>...</td>\n",
       "      <td>0.105728</td>\n",
       "      <td>3.904734</td>\n",
       "      <td>-0.481017</td>\n",
       "      <td>4.158571</td>\n",
       "      <td>-0.010417</td>\n",
       "      <td>-0.091567</td>\n",
       "      <td>0.034699</td>\n",
       "      <td>0.002483</td>\n",
       "      <td>-0.010418</td>\n",
       "      <td>-0.125034</td>\n",
       "    </tr>\n",
       "    <tr>\n",
       "      <th>10138</th>\n",
       "      <td>9.753629</td>\n",
       "      <td>-1.301953</td>\n",
       "      <td>4.614893</td>\n",
       "      <td>0.005577</td>\n",
       "      <td>0.055901</td>\n",
       "      <td>0.044302</td>\n",
       "      <td>0.341</td>\n",
       "      <td>0.249</td>\n",
       "      <td>3.429292</td>\n",
       "      <td>71.21</td>\n",
       "      <td>...</td>\n",
       "      <td>0.105728</td>\n",
       "      <td>1.517277</td>\n",
       "      <td>-0.006016</td>\n",
       "      <td>4.265633</td>\n",
       "      <td>0.042017</td>\n",
       "      <td>-0.087930</td>\n",
       "      <td>0.814360</td>\n",
       "      <td>0.002489</td>\n",
       "      <td>0.054395</td>\n",
       "      <td>-0.180178</td>\n",
       "    </tr>\n",
       "    <tr>\n",
       "      <th>...</th>\n",
       "      <th>...</th>\n",
       "      <td>...</td>\n",
       "      <td>...</td>\n",
       "      <td>...</td>\n",
       "      <td>...</td>\n",
       "      <td>...</td>\n",
       "      <td>...</td>\n",
       "      <td>...</td>\n",
       "      <td>...</td>\n",
       "      <td>...</td>\n",
       "      <td>...</td>\n",
       "      <td>...</td>\n",
       "      <td>...</td>\n",
       "      <td>...</td>\n",
       "      <td>...</td>\n",
       "      <td>...</td>\n",
       "      <td>...</td>\n",
       "      <td>...</td>\n",
       "      <td>...</td>\n",
       "      <td>...</td>\n",
       "      <td>...</td>\n",
       "      <td>...</td>\n",
       "    </tr>\n",
       "    <tr>\n",
       "      <th rowspan=\"5\" valign=\"top\">2022-02-28</th>\n",
       "      <th>93369</th>\n",
       "      <td>8.931354</td>\n",
       "      <td>-2.900422</td>\n",
       "      <td>3.358220</td>\n",
       "      <td>-0.150411</td>\n",
       "      <td>0.143396</td>\n",
       "      <td>0.104120</td>\n",
       "      <td>0.189</td>\n",
       "      <td>0.740</td>\n",
       "      <td>2.464378</td>\n",
       "      <td>27.19</td>\n",
       "      <td>...</td>\n",
       "      <td>0.417985</td>\n",
       "      <td>-0.483945</td>\n",
       "      <td>-0.096884</td>\n",
       "      <td>3.302849</td>\n",
       "      <td>0.134077</td>\n",
       "      <td>0.000000</td>\n",
       "      <td>0.000000</td>\n",
       "      <td>0.006547</td>\n",
       "      <td>0.134004</td>\n",
       "      <td>-0.010502</td>\n",
       "    </tr>\n",
       "    <tr>\n",
       "      <th>93374</th>\n",
       "      <td>8.899731</td>\n",
       "      <td>-0.223144</td>\n",
       "      <td>1.850500</td>\n",
       "      <td>0.379581</td>\n",
       "      <td>-0.100254</td>\n",
       "      <td>0.066705</td>\n",
       "      <td>0.137</td>\n",
       "      <td>0.240</td>\n",
       "      <td>2.457362</td>\n",
       "      <td>67.04</td>\n",
       "      <td>...</td>\n",
       "      <td>-0.082015</td>\n",
       "      <td>-0.021912</td>\n",
       "      <td>-0.039772</td>\n",
       "      <td>4.205289</td>\n",
       "      <td>-0.109558</td>\n",
       "      <td>0.000000</td>\n",
       "      <td>0.000000</td>\n",
       "      <td>0.006593</td>\n",
       "      <td>-0.105644</td>\n",
       "      <td>-0.163886</td>\n",
       "    </tr>\n",
       "    <tr>\n",
       "      <th>93423</th>\n",
       "      <td>8.232892</td>\n",
       "      <td>-3.411248</td>\n",
       "      <td>2.438688</td>\n",
       "      <td>-0.121693</td>\n",
       "      <td>0.105597</td>\n",
       "      <td>0.113710</td>\n",
       "      <td>0.164</td>\n",
       "      <td>0.418</td>\n",
       "      <td>2.457362</td>\n",
       "      <td>43.66</td>\n",
       "      <td>...</td>\n",
       "      <td>0.095985</td>\n",
       "      <td>0.319671</td>\n",
       "      <td>0.222161</td>\n",
       "      <td>3.776432</td>\n",
       "      <td>0.102686</td>\n",
       "      <td>0.000000</td>\n",
       "      <td>0.000000</td>\n",
       "      <td>0.006593</td>\n",
       "      <td>0.100385</td>\n",
       "      <td>0.343662</td>\n",
       "    </tr>\n",
       "    <tr>\n",
       "      <th>93429</th>\n",
       "      <td>9.433748</td>\n",
       "      <td>-1.220780</td>\n",
       "      <td>2.179739</td>\n",
       "      <td>0.191814</td>\n",
       "      <td>-0.006418</td>\n",
       "      <td>0.060981</td>\n",
       "      <td>0.139</td>\n",
       "      <td>0.120</td>\n",
       "      <td>2.457362</td>\n",
       "      <td>117.29</td>\n",
       "      <td>...</td>\n",
       "      <td>-0.202015</td>\n",
       "      <td>0.382215</td>\n",
       "      <td>-0.273479</td>\n",
       "      <td>4.764650</td>\n",
       "      <td>-0.010905</td>\n",
       "      <td>0.000000</td>\n",
       "      <td>0.000000</td>\n",
       "      <td>0.006593</td>\n",
       "      <td>-0.010517</td>\n",
       "      <td>0.097507</td>\n",
       "    </tr>\n",
       "    <tr>\n",
       "      <th>93436</th>\n",
       "      <td>13.709701</td>\n",
       "      <td>-3.352407</td>\n",
       "      <td>4.751545</td>\n",
       "      <td>0.326930</td>\n",
       "      <td>-0.070769</td>\n",
       "      <td>0.134342</td>\n",
       "      <td>0.139</td>\n",
       "      <td>0.160</td>\n",
       "      <td>2.457362</td>\n",
       "      <td>870.43</td>\n",
       "      <td>...</td>\n",
       "      <td>-0.162015</td>\n",
       "      <td>5.963896</td>\n",
       "      <td>1.275476</td>\n",
       "      <td>6.768987</td>\n",
       "      <td>-0.073397</td>\n",
       "      <td>0.000000</td>\n",
       "      <td>0.000000</td>\n",
       "      <td>0.006593</td>\n",
       "      <td>-0.073397</td>\n",
       "      <td>-0.395555</td>\n",
       "    </tr>\n",
       "  </tbody>\n",
       "</table>\n",
       "<p>92559 rows × 36 columns</p>\n",
       "</div>"
      ],
      "text/plain": [
       "                    log_size    log_bm   log_pcf       mom     strev  \\\n",
       "           permno                                                      \n",
       "2017-02-28 10026    7.825365 -1.283738  2.983457  0.154731  0.048836   \n",
       "           10032    7.543856 -0.669431  2.318458  0.400234  0.032596   \n",
       "           10104   12.070935 -1.224176  2.452383  0.101789  0.061832   \n",
       "           10107   13.111115 -1.924149  2.593088  0.259474 -0.004388   \n",
       "           10138    9.753629 -1.301953  4.614893  0.005577  0.055901   \n",
       "...                      ...       ...       ...       ...       ...   \n",
       "2022-02-28 93369    8.931354 -2.900422  3.358220 -0.150411  0.143396   \n",
       "           93374    8.899731 -0.223144  1.850500  0.379581 -0.100254   \n",
       "           93423    8.232892 -3.411248  2.438688 -0.121693  0.105597   \n",
       "           93429    9.433748 -1.220780  2.179739  0.191814 -0.006418   \n",
       "           93436   13.709701 -3.352407  4.751545  0.326930 -0.070769   \n",
       "\n",
       "                        vol    roa    roe  log_age_lb   price  ...  \\\n",
       "           permno                                              ...   \n",
       "2017-02-28 10026   0.045597  0.202  0.116    3.434694  133.80  ...   \n",
       "           10032   0.066954  0.100  0.101    3.434694   56.07  ...   \n",
       "           10104   0.045848  0.138  0.189    3.431952   42.59  ...   \n",
       "           10107   0.050434  0.165  0.249    3.431952   63.98  ...   \n",
       "           10138   0.044302  0.341  0.249    3.429292   71.21  ...   \n",
       "...                     ...    ...    ...         ...     ...  ...   \n",
       "2022-02-28 93369   0.104120  0.189  0.740    2.464378   27.19  ...   \n",
       "           93374   0.066705  0.137  0.240    2.457362   67.04  ...   \n",
       "           93423   0.113710  0.164  0.418    2.457362   43.66  ...   \n",
       "           93429   0.060981  0.139  0.120    2.457362  117.29  ...   \n",
       "           93436   0.134342  0.139  0.160    2.457362  870.43  ...   \n",
       "\n",
       "                   roe_rel_diff  log_to_rel_diff  ols_3m_d_rel_diff  \\\n",
       "           permno                                                     \n",
       "2017-02-28 10026      -0.027272        -1.221718           0.170229   \n",
       "           10032      -0.042272        -0.918443           0.012196   \n",
       "           10104       0.045728         2.821430          -0.464100   \n",
       "           10107       0.105728         3.904734          -0.481017   \n",
       "           10138       0.105728         1.517277          -0.006016   \n",
       "...                         ...              ...                ...   \n",
       "2022-02-28 93369       0.417985        -0.483945          -0.096884   \n",
       "           93374      -0.082015        -0.021912          -0.039772   \n",
       "           93423       0.095985         0.319671           0.222161   \n",
       "           93429      -0.202015         0.382215          -0.273479   \n",
       "           93436      -0.162015         5.963896           1.275476   \n",
       "\n",
       "                   log_price  log_size_diff  log_bm_diff  log_pcf_diff  \\\n",
       "           permno                                                        \n",
       "2017-02-28 10026    4.896346       0.047698    -0.109324      0.054132   \n",
       "           10032    4.026601       0.032112    -0.134995     -0.277319   \n",
       "           10104    3.751619       0.059994     0.000000      0.000000   \n",
       "           10107    4.158571      -0.010417    -0.091567      0.034699   \n",
       "           10138    4.265633       0.042017    -0.087930      0.814360   \n",
       "...                      ...            ...          ...           ...   \n",
       "2022-02-28 93369    3.302849       0.134077     0.000000      0.000000   \n",
       "           93374    4.205289      -0.109558     0.000000      0.000000   \n",
       "           93423    3.776432       0.102686     0.000000      0.000000   \n",
       "           93429    4.764650      -0.010905     0.000000      0.000000   \n",
       "           93436    6.768987      -0.073397     0.000000      0.000000   \n",
       "\n",
       "                   log_age_lb_diff  log_price_diff  log_to_diff  \n",
       "           permno                                                \n",
       "2017-02-28 10026          0.002476        0.047681    -0.063355  \n",
       "           10032          0.002476        0.032077     0.105779  \n",
       "           10104          0.002483        0.059994    -0.027495  \n",
       "           10107          0.002483       -0.010418    -0.125034  \n",
       "           10138          0.002489        0.054395    -0.180178  \n",
       "...                            ...             ...          ...  \n",
       "2022-02-28 93369          0.006547        0.134004    -0.010502  \n",
       "           93374          0.006593       -0.105644    -0.163886  \n",
       "           93423          0.006593        0.100385     0.343662  \n",
       "           93429          0.006593       -0.010517     0.097507  \n",
       "           93436          0.006593       -0.073397    -0.395555  \n",
       "\n",
       "[92559 rows x 36 columns]"
      ]
     },
     "execution_count": 240,
     "metadata": {},
     "output_type": "execute_result"
    }
   ],
   "source": [
    "df.loc[beginning_oos: ,:]"
   ]
  },
  {
   "cell_type": "markdown",
   "metadata": {},
   "source": [
    "# Benchmarks"
   ]
  },
  {
   "cell_type": "code",
   "execution_count": 168,
   "metadata": {},
   "outputs": [
    {
     "data": {
      "text/plain": [
       "<module 'utils' from '/Users/thibaut/Desktop/230K_hw2/utils.py'>"
      ]
     },
     "execution_count": 168,
     "metadata": {},
     "output_type": "execute_result"
    }
   ],
   "source": [
    "reload(utils)"
   ]
  },
  {
   "cell_type": "code",
   "execution_count": 169,
   "metadata": {},
   "outputs": [
    {
     "data": {
      "text/plain": [
       "Index(['log_size', 'log_bm', 'log_pcf', 'mom', 'strev', 'vol', 'roa', 'roe',\n",
       "       'log_age_lb', 'price', 'log_to', 'rf', 'rm', 'ols_3m_d', 'ols_1y_d',\n",
       "       'ols_5y_m', 'f_ols_1y_d', 'market_cap', 'capm_return',\n",
       "       'log_size_rel_diff', 'log_bm_rel_diff', 'log_pcf_rel_diff',\n",
       "       'mom_rel_diff', 'strev_rel_diff', 'vol_rel_diff', 'roa_rel_diff',\n",
       "       'roe_rel_diff', 'log_to_rel_diff', 'ols_3m_d_rel_diff', 'log_price',\n",
       "       'log_size_diff', 'log_bm_diff', 'log_pcf_diff', 'log_age_lb_diff',\n",
       "       'log_price_diff', 'log_to_diff'],\n",
       "      dtype='object')"
      ]
     },
     "execution_count": 169,
     "metadata": {},
     "output_type": "execute_result"
    }
   ],
   "source": [
    "df.columns"
   ]
  },
  {
   "cell_type": "code",
   "execution_count": 170,
   "metadata": {},
   "outputs": [
    {
     "name": "stdout",
     "output_type": "stream",
     "text": [
      "Using 5y monthly OLS for benchmark\n",
      "Out of sample MSE: 0.14776963286289713\n",
      "Out of sample MAPE: 38.38391911869529\n",
      "Out of sample weighted MSE: 0.11212827266702116\n",
      "Out of sample weighted MAPE: 34.09812077664707\n",
      "\n",
      "\n",
      "Using 1y daily for benchmark\n",
      "Out of sample MSE: 0.1808748894795817\n",
      "Out of sample MAPE: 39.43022851528708\n",
      "Out of sample weighted MSE: 0.11122707974423018\n",
      "Out of sample weighted MAPE: 31.478561778962177\n",
      "\n",
      "\n",
      "Using 3m daily for benchmark\n",
      "Out of sample MSE: 0.28367415894309234\n",
      "Out of sample MAPE: 44.842843730012994\n",
      "Out of sample weighted MSE: 0.14992244096300256\n",
      "Out of sample weighted MAPE: 34.23614577135323\n"
     ]
    }
   ],
   "source": [
    "print(f\"Using 5y monthly OLS for benchmark\")\n",
    "out_of_sample_mse = utils.mse(df, 'ols_5y_m', 'f_ols_1y_d', beginning_oos, end_oos)\n",
    "out_of_sample_mape = utils.mape(df, 'ols_5y_m', 'f_ols_1y_d', beginning_oos, end_oos)\n",
    "out_of_sample_wmse = utils.value_weighted_mse(df, 'ols_5y_m', 'f_ols_1y_d', beginning_oos, end_oos)\n",
    "out_of_sample_wmape = utils.value_weighted_mape(df, 'ols_5y_m', 'f_ols_1y_d', beginning_oos, end_oos)\n",
    "print(f\"Out of sample MSE: {out_of_sample_mse}\")\n",
    "print(f\"Out of sample MAPE: {out_of_sample_mape}\")\n",
    "print(f\"Out of sample weighted MSE: {out_of_sample_wmse}\")\n",
    "print(f\"Out of sample weighted MAPE: {out_of_sample_wmape}\")\n",
    "print(\"\\n\") \n",
    "\n",
    "print(f\"Using 1y daily for benchmark\")\n",
    "out_of_sample_mse = utils.mse(df, 'ols_1y_d', 'f_ols_1y_d', beginning_oos, end_oos)\n",
    "out_of_sample_mape = utils.mape(df, 'ols_1y_d', 'f_ols_1y_d', beginning_oos, end_oos)\n",
    "out_of_sample_wmse = utils.value_weighted_mse(df, 'ols_1y_d', 'f_ols_1y_d', beginning_oos, end_oos)\n",
    "out_of_sample_wmape = utils.value_weighted_mape(df, 'ols_1y_d', 'f_ols_1y_d', beginning_oos, end_oos)\n",
    "print(f\"Out of sample MSE: {out_of_sample_mse}\")\n",
    "print(f\"Out of sample MAPE: {out_of_sample_mape}\")\n",
    "print(f\"Out of sample weighted MSE: {out_of_sample_wmse}\")\n",
    "print(f\"Out of sample weighted MAPE: {out_of_sample_wmape}\")\n",
    "print(\"\\n\") \n",
    "\n",
    "print(f\"Using 3m daily for benchmark\")\n",
    "out_of_sample_mse = utils.mse(df, 'ols_3m_d', 'f_ols_1y_d', beginning_oos, end_oos)\n",
    "out_of_sample_mape = utils.mape(df, 'ols_3m_d', 'f_ols_1y_d', beginning_oos, end_oos)\n",
    "out_of_sample_wmse = utils.value_weighted_mse(df, 'ols_3m_d', 'f_ols_1y_d', beginning_oos, end_oos)\n",
    "out_of_sample_wmape = utils.value_weighted_mape(df, 'ols_3m_d', 'f_ols_1y_d', beginning_oos, end_oos)\n",
    "print(f\"Out of sample MSE: {out_of_sample_mse}\")\n",
    "print(f\"Out of sample MAPE: {out_of_sample_mape}\")\n",
    "print(f\"Out of sample weighted MSE: {out_of_sample_wmse}\")\n",
    "print(f\"Out of sample weighted MAPE: {out_of_sample_wmape}\")"
   ]
  },
  {
   "cell_type": "markdown",
   "metadata": {},
   "source": [
    "We can't do a ticker wise time series regression, becasue of high dimensionality (and overfitting issue), we must resort to a full regression across all tickers and dates.\n"
   ]
  },
  {
   "cell_type": "markdown",
   "metadata": {},
   "source": [
    "# Train/validation/test(oos) split"
   ]
  },
  {
   "cell_type": "code",
   "execution_count": 171,
   "metadata": {},
   "outputs": [
    {
     "name": "stdout",
     "output_type": "stream",
     "text": [
      "Index(['log_size', 'log_bm', 'log_pcf', 'mom', 'strev', 'vol', 'roa', 'roe',\n",
      "       'log_age_lb', 'price', 'log_to', 'rf', 'rm', 'ols_3m_d', 'ols_1y_d',\n",
      "       'ols_5y_m', 'f_ols_1y_d', 'market_cap', 'capm_return',\n",
      "       'log_size_rel_diff', 'log_bm_rel_diff', 'log_pcf_rel_diff',\n",
      "       'mom_rel_diff', 'strev_rel_diff', 'vol_rel_diff', 'roa_rel_diff',\n",
      "       'roe_rel_diff', 'log_to_rel_diff', 'ols_3m_d_rel_diff', 'log_price',\n",
      "       'log_size_diff', 'log_bm_diff', 'log_pcf_diff', 'log_age_lb_diff',\n",
      "       'log_price_diff', 'log_to_diff'],\n",
      "      dtype='object')\n"
     ]
    }
   ],
   "source": [
    "print(df.columns)\n"
   ]
  },
  {
   "cell_type": "code",
   "execution_count": 172,
   "metadata": {},
   "outputs": [
    {
     "data": {
      "text/plain": [
       "<module 'column_transforms' from '/Users/thibaut/Desktop/230K_hw2/column_transforms.py'>"
      ]
     },
     "execution_count": 172,
     "metadata": {},
     "output_type": "execute_result"
    }
   ],
   "source": [
    "reload(column_transforms)"
   ]
  },
  {
   "cell_type": "code",
   "execution_count": 173,
   "metadata": {},
   "outputs": [],
   "source": [
    "def train_validation(df, model, L_features, target_name, preprocessor, beginning_train, beginning_validation, end_validation):\n",
    "    \n",
    "    df_X_train = df.loc[beginning_train:beginning_validation, L_features]\n",
    "    df_X_train_transformed = preprocessor.fit_transform(df_X_train)\n",
    "    df_y_train = df.loc[beginning_train:beginning_validation, target_name]\n",
    "\n",
    "    model.fit(df_X_train_transformed, df_y_train)\n",
    "    df_X_forecast = df.loc[beginning_validation:end_validation, L_features]\n",
    "    df_X_forecast_transformed = preprocessor.transform(df_X_forecast)\n",
    "\n",
    "    train_forecast = pd.Series(model.predict(df_X_train_transformed),  index = df_X_train.index)\n",
    "    validation_forecast = pd.Series(model.predict(df_X_forecast_transformed),  index = df_X_forecast.index)\n",
    "\n",
    "    df['forecast'] = pd.concat([train_forecast, validation_forecast], axis=0)\n",
    "\n",
    "    mse_train = utils.mse(df, 'forecast', 'f_ols_1y_d', beginning_train, beginning_validation)\n",
    "    mape_train =  utils.mape(df, 'forecast', 'f_ols_1y_d', beginning_train, beginning_validation)\n",
    "    w_mse_train = utils.value_weighted_mse(df, 'forecast', 'f_ols_1y_d', beginning_train, beginning_validation)\n",
    "    w_mape_train = utils.value_weighted_mape(df, 'forecast', 'f_ols_1y_d', beginning_train, beginning_validation)\n",
    "\n",
    "    mse_val = utils.mse(df, 'forecast', 'f_ols_1y_d', beginning_validation, end_validation)\n",
    "    mape_val =  utils.mape(df, 'forecast', 'f_ols_1y_d', beginning_validation, end_validation)\n",
    "    w_mse_val = utils.value_weighted_mse(df, 'forecast', 'f_ols_1y_d', beginning_validation, end_validation)\n",
    "    w_mape_val = utils.value_weighted_mape(df, 'forecast', 'f_ols_1y_d', beginning_validation, end_validation)\n",
    "\n",
    "    df_metrics = pd.DataFrame({\"MSE_train\": [mse_train],\"MSE_val\": [mse_val], \"MAPE_train\": [mape_train], \"MAPE_val\": [mape_val], \"WMSE_train\":[w_mse_train], \"WMSE_val\":[w_mse_val], \"WMAPE_train\":[w_mape_train],\"WMAPE_val\":[w_mape_val]})\n",
    "\n",
    "\n",
    "    return df_metrics, df[['forecast']]"
   ]
  },
  {
   "cell_type": "markdown",
   "metadata": {},
   "source": [
    "# Models and hyperparameter tuning"
   ]
  },
  {
   "cell_type": "markdown",
   "metadata": {},
   "source": [
    "### Linear Regression"
   ]
  },
  {
   "cell_type": "code",
   "execution_count": 13,
   "metadata": {},
   "outputs": [],
   "source": [
    "L_features_volnorm = df.filter(like=\"rel_diff\").columns.to_list()\n",
    "L_features_znorm = df.columns.to_list()\n",
    "L_features_znorm.remove(\"f_ols_1y_d\")\n",
    "for feat in L_features_volnorm:\n",
    "    L_features_znorm.remove(feat)\n",
    "\n",
    "L_features = L_features_znorm+L_features_volnorm\n",
    "target_name =  'f_ols_1y_d'\n",
    "\n",
    "lr_model = LinearRegression(fit_intercept=True)\n",
    "preprocessor = ColumnTransformer([\n",
    "    ('zscore', column_transforms.ZscoreTransformer(ewm_period_m=21, ewm_period_std_dev=21), L_features_znorm),\n",
    "    ('volnorm', column_transforms.VolScaler(ewm_period_std_dev=21), L_features_volnorm),  \n",
    "    ('winsorize', column_transforms.Winsorizer(), L_features),         \n",
    "], remainder = 'passthrough')"
   ]
  },
  {
   "cell_type": "code",
   "execution_count": 14,
   "metadata": {},
   "outputs": [],
   "source": [
    "df_res_lr, df_forecast_lr = train_validation(df, lr_model, L_features, target_name, preprocessor, beginning_train, beginning_validation, end_validation)\n",
    "df_res_lr[\"model\"] = [\"lr\"]"
   ]
  },
  {
   "cell_type": "code",
   "execution_count": 26,
   "metadata": {},
   "outputs": [
    {
     "data": {
      "text/html": [
       "<div>\n",
       "<style scoped>\n",
       "    .dataframe tbody tr th:only-of-type {\n",
       "        vertical-align: middle;\n",
       "    }\n",
       "\n",
       "    .dataframe tbody tr th {\n",
       "        vertical-align: top;\n",
       "    }\n",
       "\n",
       "    .dataframe thead th {\n",
       "        text-align: right;\n",
       "    }\n",
       "</style>\n",
       "<table border=\"1\" class=\"dataframe\">\n",
       "  <thead>\n",
       "    <tr style=\"text-align: right;\">\n",
       "      <th></th>\n",
       "      <th>MSE_train</th>\n",
       "      <th>MSE_val</th>\n",
       "      <th>MAPE_train</th>\n",
       "      <th>MAPE_val</th>\n",
       "      <th>WMSE_train</th>\n",
       "      <th>WMSE_val</th>\n",
       "      <th>WMAPE_train</th>\n",
       "      <th>WMAPE_val</th>\n",
       "      <th>model</th>\n",
       "    </tr>\n",
       "  </thead>\n",
       "  <tbody>\n",
       "    <tr>\n",
       "      <th>0</th>\n",
       "      <td>0.121019</td>\n",
       "      <td>0.192412</td>\n",
       "      <td>37.835262</td>\n",
       "      <td>29.848019</td>\n",
       "      <td>0.081458</td>\n",
       "      <td>0.082829</td>\n",
       "      <td>25.667962</td>\n",
       "      <td>25.841428</td>\n",
       "      <td>lr</td>\n",
       "    </tr>\n",
       "  </tbody>\n",
       "</table>\n",
       "</div>"
      ],
      "text/plain": [
       "   MSE_train   MSE_val  MAPE_train   MAPE_val  WMSE_train  WMSE_val  \\\n",
       "0   0.121019  0.192412   37.835262  29.848019    0.081458  0.082829   \n",
       "\n",
       "   WMAPE_train  WMAPE_val model  \n",
       "0    25.667962  25.841428    lr  "
      ]
     },
     "execution_count": 26,
     "metadata": {},
     "output_type": "execute_result"
    }
   ],
   "source": [
    "df_res_lr"
   ]
  },
  {
   "cell_type": "markdown",
   "metadata": {},
   "source": [
    "### Lasso Regression"
   ]
  },
  {
   "cell_type": "code",
   "execution_count": 74,
   "metadata": {},
   "outputs": [],
   "source": [
    "L_features_volnorm = df.filter(like=\"rel_diff\").columns.to_list()\n",
    "L_features_znorm = df.columns.to_list()\n",
    "L_features_znorm.remove(\"f_ols_1y_d\")\n",
    "for feat in L_features_volnorm:\n",
    "    L_features_znorm.remove(feat)\n",
    "\n",
    "L_features = L_features_znorm+L_features_volnorm\n",
    "target_name =  'f_ols_1y_d'\n",
    "\n",
    "\n",
    "alphas = np.logspace(-3, 0, 10)  \n",
    "lasso_cv = LassoCV(alphas=alphas, cv=5, fit_intercept=True, n_jobs=-1)\n",
    "preprocessor = ColumnTransformer([\n",
    "    ('zscore', column_transforms.ZscoreTransformer(ewm_period_m=21, ewm_period_std_dev=21), L_features_znorm),\n",
    "    ('volnorm', column_transforms.VolScaler(ewm_period_std_dev=21), L_features_volnorm),  \n",
    "    ('winsorize', column_transforms.Winsorizer(), L_features),         \n",
    "], remainder = 'passthrough')"
   ]
  },
  {
   "cell_type": "code",
   "execution_count": 75,
   "metadata": {},
   "outputs": [],
   "source": [
    "df_res_lasso, df_forecast_lasso = train_validation(df, lasso_cv, L_features, target_name, preprocessor, \n",
    "                                             beginning_train, beginning_validation, end_validation)\n",
    "\n",
    "df_res_lasso[\"model\"] = [\"lasso\"]"
   ]
  },
  {
   "cell_type": "code",
   "execution_count": 76,
   "metadata": {},
   "outputs": [
    {
     "data": {
      "text/html": [
       "<div>\n",
       "<style scoped>\n",
       "    .dataframe tbody tr th:only-of-type {\n",
       "        vertical-align: middle;\n",
       "    }\n",
       "\n",
       "    .dataframe tbody tr th {\n",
       "        vertical-align: top;\n",
       "    }\n",
       "\n",
       "    .dataframe thead th {\n",
       "        text-align: right;\n",
       "    }\n",
       "</style>\n",
       "<table border=\"1\" class=\"dataframe\">\n",
       "  <thead>\n",
       "    <tr style=\"text-align: right;\">\n",
       "      <th></th>\n",
       "      <th>MSE_train</th>\n",
       "      <th>MSE_val</th>\n",
       "      <th>MAPE_train</th>\n",
       "      <th>MAPE_val</th>\n",
       "      <th>WMSE_train</th>\n",
       "      <th>WMSE_val</th>\n",
       "      <th>WMAPE_train</th>\n",
       "      <th>WMAPE_val</th>\n",
       "      <th>model</th>\n",
       "    </tr>\n",
       "  </thead>\n",
       "  <tbody>\n",
       "    <tr>\n",
       "      <th>0</th>\n",
       "      <td>0.122</td>\n",
       "      <td>0.168773</td>\n",
       "      <td>37.81472</td>\n",
       "      <td>28.611141</td>\n",
       "      <td>0.080765</td>\n",
       "      <td>0.077029</td>\n",
       "      <td>25.342115</td>\n",
       "      <td>25.798405</td>\n",
       "      <td>lasso</td>\n",
       "    </tr>\n",
       "  </tbody>\n",
       "</table>\n",
       "</div>"
      ],
      "text/plain": [
       "   MSE_train   MSE_val  MAPE_train   MAPE_val  WMSE_train  WMSE_val  \\\n",
       "0      0.122  0.168773    37.81472  28.611141    0.080765  0.077029   \n",
       "\n",
       "   WMAPE_train  WMAPE_val  model  \n",
       "0    25.342115  25.798405  lasso  "
      ]
     },
     "execution_count": 76,
     "metadata": {},
     "output_type": "execute_result"
    }
   ],
   "source": [
    "df_res_lasso"
   ]
  },
  {
   "cell_type": "markdown",
   "metadata": {},
   "source": [
    "### Random Forest"
   ]
  },
  {
   "cell_type": "code",
   "execution_count": 14,
   "metadata": {},
   "outputs": [
    {
     "name": "stderr",
     "output_type": "stream",
     "text": [
      "Training Random Forest Models:   0%|          | 0/8 [00:00<?, ?it/s]"
     ]
    },
    {
     "name": "stderr",
     "output_type": "stream",
     "text": [
      "Training Random Forest Models: 100%|██████████| 8/8 [6:34:52<00:00, 2961.57s/it]  \n"
     ]
    }
   ],
   "source": [
    "L_features = df.columns.to_list()\n",
    "L_features.remove(\"f_ols_1y_d\")\n",
    "target_name = \"f_ols_1y_d\"\n",
    "\n",
    "preprocessor = ColumnTransformer([\n",
    "    ('winsorize', column_transforms.Winsorizer(), L_features),  \n",
    "], remainder='passthrough')\n",
    "\n",
    "\n",
    "param_grid_rf = {\n",
    "    'n_estimators': [100, 300],\n",
    "    'max_depth': [3, 7],\n",
    "    'min_samples_split': [2, 5]\n",
    "}\n",
    "\n",
    "\n",
    "results_dict_rf = {}\n",
    "\n",
    "\n",
    "for params in tqdm(itertools.product(*param_grid_rf.values()), total=np.prod([len(v) for v in param_grid_rf.values()]), desc=\"Training Random Forest Models\"):\n",
    "\n",
    "    model_params = dict(zip(param_grid_rf.keys(), params))\n",
    "    rf_model = RandomForestRegressor(**model_params, random_state=42)\n",
    "\n",
    "    df_metrics_rf, df_forecast_rf = train_validation(df, rf_model, L_features, target_name, preprocessor, \n",
    "                                                     beginning_train, beginning_validation, end_validation)\n",
    "\n",
    "\n",
    "    results_dict_rf[f\"model_{len(results_dict_rf) + 1}\"] = {\n",
    "        'parameters': model_params,\n",
    "        'metrics': df_metrics_rf,\n",
    "        'forecast': df_forecast_rf,\n",
    "        'preprocessor': preprocessor, \n",
    "        'features': L_features\n",
    "    }"
   ]
  },
  {
   "cell_type": "markdown",
   "metadata": {},
   "source": [
    "with open(\"results_rf.pkl\", \"wb\") as f:\n",
    "    pickle.dump(results_dict_rf, f)"
   ]
  },
  {
   "cell_type": "code",
   "execution_count": 230,
   "metadata": {},
   "outputs": [],
   "source": [
    "with open(\"results_rf.pkl\", \"rb\") as f:\n",
    "    results_rf = pickle.load(f)"
   ]
  },
  {
   "cell_type": "code",
   "execution_count": 47,
   "metadata": {},
   "outputs": [],
   "source": [
    "L_res_rf = []\n",
    "for key in results_rf.keys():\n",
    "    el = results_rf[key]\n",
    "    df_res = el[\"metrics\"]\n",
    "    df_res[\"model\"] = [key]\n",
    "    L_res_rf.append(df_res)\n",
    "\n",
    "df_res_rf= pd.concat(L_res_rf, axis=0)"
   ]
  },
  {
   "cell_type": "code",
   "execution_count": 58,
   "metadata": {},
   "outputs": [
    {
     "data": {
      "text/html": [
       "<div>\n",
       "<style scoped>\n",
       "    .dataframe tbody tr th:only-of-type {\n",
       "        vertical-align: middle;\n",
       "    }\n",
       "\n",
       "    .dataframe tbody tr th {\n",
       "        vertical-align: top;\n",
       "    }\n",
       "\n",
       "    .dataframe thead th {\n",
       "        text-align: right;\n",
       "    }\n",
       "</style>\n",
       "<table border=\"1\" class=\"dataframe\">\n",
       "  <thead>\n",
       "    <tr style=\"text-align: right;\">\n",
       "      <th></th>\n",
       "      <th>MSE_train</th>\n",
       "      <th>MSE_val</th>\n",
       "      <th>MAPE_train</th>\n",
       "      <th>MAPE_val</th>\n",
       "      <th>WMSE_train</th>\n",
       "      <th>WMSE_val</th>\n",
       "      <th>WMAPE_train</th>\n",
       "      <th>WMAPE_val</th>\n",
       "      <th>model</th>\n",
       "    </tr>\n",
       "  </thead>\n",
       "  <tbody>\n",
       "    <tr>\n",
       "      <th>0</th>\n",
       "      <td>0.119933</td>\n",
       "      <td>0.159466</td>\n",
       "      <td>38.392012</td>\n",
       "      <td>28.716633</td>\n",
       "      <td>0.078274</td>\n",
       "      <td>0.075658</td>\n",
       "      <td>25.010092</td>\n",
       "      <td>26.191863</td>\n",
       "      <td>model_3</td>\n",
       "    </tr>\n",
       "    <tr>\n",
       "      <th>0</th>\n",
       "      <td>0.119933</td>\n",
       "      <td>0.159466</td>\n",
       "      <td>38.392012</td>\n",
       "      <td>28.716633</td>\n",
       "      <td>0.078274</td>\n",
       "      <td>0.075658</td>\n",
       "      <td>25.010092</td>\n",
       "      <td>26.191863</td>\n",
       "      <td>model_4</td>\n",
       "    </tr>\n",
       "    <tr>\n",
       "      <th>0</th>\n",
       "      <td>0.119841</td>\n",
       "      <td>0.159702</td>\n",
       "      <td>38.382775</td>\n",
       "      <td>28.735951</td>\n",
       "      <td>0.078234</td>\n",
       "      <td>0.075684</td>\n",
       "      <td>25.013175</td>\n",
       "      <td>26.226196</td>\n",
       "      <td>model_7</td>\n",
       "    </tr>\n",
       "    <tr>\n",
       "      <th>0</th>\n",
       "      <td>0.119841</td>\n",
       "      <td>0.159702</td>\n",
       "      <td>38.382775</td>\n",
       "      <td>28.735951</td>\n",
       "      <td>0.078234</td>\n",
       "      <td>0.075684</td>\n",
       "      <td>25.013175</td>\n",
       "      <td>26.226196</td>\n",
       "      <td>model_8</td>\n",
       "    </tr>\n",
       "    <tr>\n",
       "      <th>0</th>\n",
       "      <td>0.138486</td>\n",
       "      <td>0.166998</td>\n",
       "      <td>41.930129</td>\n",
       "      <td>28.843073</td>\n",
       "      <td>0.088948</td>\n",
       "      <td>0.078795</td>\n",
       "      <td>26.269215</td>\n",
       "      <td>26.440569</td>\n",
       "      <td>model_1</td>\n",
       "    </tr>\n",
       "    <tr>\n",
       "      <th>0</th>\n",
       "      <td>0.138486</td>\n",
       "      <td>0.166998</td>\n",
       "      <td>41.930129</td>\n",
       "      <td>28.843073</td>\n",
       "      <td>0.088948</td>\n",
       "      <td>0.078795</td>\n",
       "      <td>26.269215</td>\n",
       "      <td>26.440569</td>\n",
       "      <td>model_2</td>\n",
       "    </tr>\n",
       "    <tr>\n",
       "      <th>0</th>\n",
       "      <td>0.138413</td>\n",
       "      <td>0.166946</td>\n",
       "      <td>41.928660</td>\n",
       "      <td>28.844289</td>\n",
       "      <td>0.088901</td>\n",
       "      <td>0.078791</td>\n",
       "      <td>26.269053</td>\n",
       "      <td>26.445279</td>\n",
       "      <td>model_5</td>\n",
       "    </tr>\n",
       "    <tr>\n",
       "      <th>0</th>\n",
       "      <td>0.138413</td>\n",
       "      <td>0.166946</td>\n",
       "      <td>41.928660</td>\n",
       "      <td>28.844289</td>\n",
       "      <td>0.088901</td>\n",
       "      <td>0.078791</td>\n",
       "      <td>26.269053</td>\n",
       "      <td>26.445279</td>\n",
       "      <td>model_6</td>\n",
       "    </tr>\n",
       "  </tbody>\n",
       "</table>\n",
       "</div>"
      ],
      "text/plain": [
       "   MSE_train   MSE_val  MAPE_train   MAPE_val  WMSE_train  WMSE_val  \\\n",
       "0   0.119933  0.159466   38.392012  28.716633    0.078274  0.075658   \n",
       "0   0.119933  0.159466   38.392012  28.716633    0.078274  0.075658   \n",
       "0   0.119841  0.159702   38.382775  28.735951    0.078234  0.075684   \n",
       "0   0.119841  0.159702   38.382775  28.735951    0.078234  0.075684   \n",
       "0   0.138486  0.166998   41.930129  28.843073    0.088948  0.078795   \n",
       "0   0.138486  0.166998   41.930129  28.843073    0.088948  0.078795   \n",
       "0   0.138413  0.166946   41.928660  28.844289    0.088901  0.078791   \n",
       "0   0.138413  0.166946   41.928660  28.844289    0.088901  0.078791   \n",
       "\n",
       "   WMAPE_train  WMAPE_val    model  \n",
       "0    25.010092  26.191863  model_3  \n",
       "0    25.010092  26.191863  model_4  \n",
       "0    25.013175  26.226196  model_7  \n",
       "0    25.013175  26.226196  model_8  \n",
       "0    26.269215  26.440569  model_1  \n",
       "0    26.269215  26.440569  model_2  \n",
       "0    26.269053  26.445279  model_5  \n",
       "0    26.269053  26.445279  model_6  "
      ]
     },
     "execution_count": 58,
     "metadata": {},
     "output_type": "execute_result"
    }
   ],
   "source": [
    "df_res_rf.sort_values(by=\"WMAPE_val\", ascending=True, inplace=True)\n",
    "df_res_rf"
   ]
  },
  {
   "cell_type": "code",
   "execution_count": 61,
   "metadata": {},
   "outputs": [
    {
     "data": {
      "text/html": [
       "<div>\n",
       "<style scoped>\n",
       "    .dataframe tbody tr th:only-of-type {\n",
       "        vertical-align: middle;\n",
       "    }\n",
       "\n",
       "    .dataframe tbody tr th {\n",
       "        vertical-align: top;\n",
       "    }\n",
       "\n",
       "    .dataframe thead th {\n",
       "        text-align: right;\n",
       "    }\n",
       "</style>\n",
       "<table border=\"1\" class=\"dataframe\">\n",
       "  <thead>\n",
       "    <tr style=\"text-align: right;\">\n",
       "      <th></th>\n",
       "      <th>MSE_train</th>\n",
       "      <th>MSE_val</th>\n",
       "      <th>MAPE_train</th>\n",
       "      <th>MAPE_val</th>\n",
       "      <th>WMSE_train</th>\n",
       "      <th>WMSE_val</th>\n",
       "      <th>WMAPE_train</th>\n",
       "      <th>WMAPE_val</th>\n",
       "      <th>model</th>\n",
       "    </tr>\n",
       "  </thead>\n",
       "  <tbody>\n",
       "    <tr>\n",
       "      <th>0</th>\n",
       "      <td>0.119933</td>\n",
       "      <td>0.159466</td>\n",
       "      <td>38.392012</td>\n",
       "      <td>28.716633</td>\n",
       "      <td>0.078274</td>\n",
       "      <td>0.075658</td>\n",
       "      <td>25.010092</td>\n",
       "      <td>26.191863</td>\n",
       "      <td>rf</td>\n",
       "    </tr>\n",
       "  </tbody>\n",
       "</table>\n",
       "</div>"
      ],
      "text/plain": [
       "   MSE_train   MSE_val  MAPE_train   MAPE_val  WMSE_train  WMSE_val  \\\n",
       "0   0.119933  0.159466   38.392012  28.716633    0.078274  0.075658   \n",
       "\n",
       "   WMAPE_train  WMAPE_val model  \n",
       "0    25.010092  26.191863    rf  "
      ]
     },
     "execution_count": 61,
     "metadata": {},
     "output_type": "execute_result"
    }
   ],
   "source": [
    "df_res_rf = df_res_rf.iloc[0:1]\n",
    "df_res_rf[\"model\"] = [\"rf\"]\n",
    "df_res_rf"
   ]
  },
  {
   "cell_type": "markdown",
   "metadata": {},
   "source": [
    "#### XGBoost"
   ]
  },
  {
   "cell_type": "code",
   "execution_count": null,
   "metadata": {},
   "outputs": [
    {
     "name": "stderr",
     "output_type": "stream",
     "text": [
      "Training Models:   0%|          | 0/27 [00:00<?, ?it/s]"
     ]
    },
    {
     "name": "stderr",
     "output_type": "stream",
     "text": [
      "Training Models: 100%|██████████| 27/27 [11:14<00:00, 24.99s/it]\n"
     ]
    }
   ],
   "source": [
    "L_features = df.columns.to_list()\n",
    "L_features.remove(\"f_ols_1y_d\")\n",
    "target_name =  'f_ols_1y_d'\n",
    "\n",
    "preprocessor = ColumnTransformer([\n",
    "    ('winsorize', column_transforms.Winsorizer(), L_features),  \n",
    "], remainder = 'passthrough')\n",
    "\n",
    "\n",
    "param_grid_xgb= {\n",
    "    'n_estimators': [100, 200, 300],\n",
    "    'learning_rate': [0.01, 0.05, 0.1],\n",
    "    'max_depth': [3, 5, 7]\n",
    "}\n",
    "\n",
    "results_dict_xgb = {}\n",
    "\n",
    "for params in tqdm(itertools.product(*param_grid_xgb.values()), total=np.prod([len(v) for v in param_grid_xgb.values()]), desc=\"Training Models\"):\n",
    "\n",
    "    model_params = dict(zip(param_grid_xgb.keys(), params))\n",
    "    xgb_model = xgb.XGBRegressor(**model_params)\n",
    "\n",
    "    df_metrics_xgb, df_forecast_xgb = train_validation(df, xgb_model, L_features, target_name, preprocessor, \n",
    "                                                       beginning_train, beginning_validation, end_validation)\n",
    "\n",
    "    results_dict_xgb[f\"model_{len(results_dict_xgb) + 1}\"] = {\n",
    "        'parameters': model_params,\n",
    "        'metrics': df_metrics_xgb,\n",
    "        'forecast': df_forecast_xgb,\n",
    "         'preprocessor': preprocessor, \n",
    "        'features': L_features\n",
    "    }"
   ]
  },
  {
   "cell_type": "markdown",
   "metadata": {},
   "source": [
    "with open(\"results_xgb.pkl\", \"wb\") as f:\n",
    "    pickle.dump(results_dict_xgb, f)"
   ]
  },
  {
   "cell_type": "code",
   "execution_count": 233,
   "metadata": {},
   "outputs": [],
   "source": [
    "with open(\"results_xgb.pkl\", \"rb\") as f:\n",
    "    results_xgb = pickle.load(f)"
   ]
  },
  {
   "cell_type": "code",
   "execution_count": 49,
   "metadata": {},
   "outputs": [],
   "source": [
    "L_res_xgb = []\n",
    "for key in results_xgb.keys():\n",
    "    el = results_xgb[key]\n",
    "    df_res = el[\"metrics\"]\n",
    "    df_res[\"model\"] = [key]\n",
    "    L_res_xgb.append(df_res)\n",
    "\n",
    "df_res_xgb = pd.concat(L_res_xgb, axis=0)"
   ]
  },
  {
   "cell_type": "code",
   "execution_count": 62,
   "metadata": {},
   "outputs": [
    {
     "data": {
      "text/html": [
       "<div>\n",
       "<style scoped>\n",
       "    .dataframe tbody tr th:only-of-type {\n",
       "        vertical-align: middle;\n",
       "    }\n",
       "\n",
       "    .dataframe tbody tr th {\n",
       "        vertical-align: top;\n",
       "    }\n",
       "\n",
       "    .dataframe thead th {\n",
       "        text-align: right;\n",
       "    }\n",
       "</style>\n",
       "<table border=\"1\" class=\"dataframe\">\n",
       "  <thead>\n",
       "    <tr style=\"text-align: right;\">\n",
       "      <th></th>\n",
       "      <th>MSE_train</th>\n",
       "      <th>MSE_val</th>\n",
       "      <th>MAPE_train</th>\n",
       "      <th>MAPE_val</th>\n",
       "      <th>WMSE_train</th>\n",
       "      <th>WMSE_val</th>\n",
       "      <th>WMAPE_train</th>\n",
       "      <th>WMAPE_val</th>\n",
       "      <th>model</th>\n",
       "    </tr>\n",
       "  </thead>\n",
       "  <tbody>\n",
       "    <tr>\n",
       "      <th>0</th>\n",
       "      <td>0.099114</td>\n",
       "      <td>0.172381</td>\n",
       "      <td>33.958840</td>\n",
       "      <td>28.954270</td>\n",
       "      <td>0.064567</td>\n",
       "      <td>0.080375</td>\n",
       "      <td>22.722520</td>\n",
       "      <td>25.888313</td>\n",
       "      <td>model_8</td>\n",
       "    </tr>\n",
       "    <tr>\n",
       "      <th>0</th>\n",
       "      <td>0.103574</td>\n",
       "      <td>0.169218</td>\n",
       "      <td>34.596133</td>\n",
       "      <td>28.924836</td>\n",
       "      <td>0.067574</td>\n",
       "      <td>0.079680</td>\n",
       "      <td>23.094165</td>\n",
       "      <td>26.096453</td>\n",
       "      <td>model_7</td>\n",
       "    </tr>\n",
       "    <tr>\n",
       "      <th>0</th>\n",
       "      <td>0.109011</td>\n",
       "      <td>0.164017</td>\n",
       "      <td>35.935025</td>\n",
       "      <td>28.774299</td>\n",
       "      <td>0.070818</td>\n",
       "      <td>0.077457</td>\n",
       "      <td>23.822756</td>\n",
       "      <td>26.166214</td>\n",
       "      <td>model_5</td>\n",
       "    </tr>\n",
       "    <tr>\n",
       "      <th>0</th>\n",
       "      <td>0.101613</td>\n",
       "      <td>0.167166</td>\n",
       "      <td>34.688619</td>\n",
       "      <td>28.823549</td>\n",
       "      <td>0.065820</td>\n",
       "      <td>0.079100</td>\n",
       "      <td>23.090003</td>\n",
       "      <td>26.257069</td>\n",
       "      <td>model_6</td>\n",
       "    </tr>\n",
       "    <tr>\n",
       "      <th>0</th>\n",
       "      <td>0.113924</td>\n",
       "      <td>0.161996</td>\n",
       "      <td>36.800966</td>\n",
       "      <td>28.817338</td>\n",
       "      <td>0.074514</td>\n",
       "      <td>0.076752</td>\n",
       "      <td>24.298458</td>\n",
       "      <td>26.328408</td>\n",
       "      <td>model_4</td>\n",
       "    </tr>\n",
       "    <tr>\n",
       "      <th>0</th>\n",
       "      <td>0.090006</td>\n",
       "      <td>0.175713</td>\n",
       "      <td>32.593676</td>\n",
       "      <td>29.189016</td>\n",
       "      <td>0.058616</td>\n",
       "      <td>0.082299</td>\n",
       "      <td>21.803976</td>\n",
       "      <td>26.443377</td>\n",
       "      <td>model_9</td>\n",
       "    </tr>\n",
       "    <tr>\n",
       "      <th>0</th>\n",
       "      <td>0.092313</td>\n",
       "      <td>0.176712</td>\n",
       "      <td>32.483899</td>\n",
       "      <td>29.400749</td>\n",
       "      <td>0.060563</td>\n",
       "      <td>0.083575</td>\n",
       "      <td>21.759022</td>\n",
       "      <td>26.621954</td>\n",
       "      <td>model_13</td>\n",
       "    </tr>\n",
       "    <tr>\n",
       "      <th>0</th>\n",
       "      <td>0.089540</td>\n",
       "      <td>0.177165</td>\n",
       "      <td>32.184905</td>\n",
       "      <td>29.527748</td>\n",
       "      <td>0.058617</td>\n",
       "      <td>0.084431</td>\n",
       "      <td>21.584865</td>\n",
       "      <td>27.038866</td>\n",
       "      <td>model_14</td>\n",
       "    </tr>\n",
       "    <tr>\n",
       "      <th>0</th>\n",
       "      <td>0.082759</td>\n",
       "      <td>0.177586</td>\n",
       "      <td>31.224906</td>\n",
       "      <td>29.627837</td>\n",
       "      <td>0.054040</td>\n",
       "      <td>0.085316</td>\n",
       "      <td>20.884636</td>\n",
       "      <td>27.281167</td>\n",
       "      <td>model_15</td>\n",
       "    </tr>\n",
       "    <tr>\n",
       "      <th>0</th>\n",
       "      <td>0.085839</td>\n",
       "      <td>0.179318</td>\n",
       "      <td>31.340658</td>\n",
       "      <td>29.792903</td>\n",
       "      <td>0.056018</td>\n",
       "      <td>0.086872</td>\n",
       "      <td>20.910482</td>\n",
       "      <td>27.507137</td>\n",
       "      <td>model_16</td>\n",
       "    </tr>\n",
       "    <tr>\n",
       "      <th>0</th>\n",
       "      <td>0.098475</td>\n",
       "      <td>0.181960</td>\n",
       "      <td>35.289020</td>\n",
       "      <td>29.827587</td>\n",
       "      <td>0.064926</td>\n",
       "      <td>0.086820</td>\n",
       "      <td>22.705277</td>\n",
       "      <td>27.588605</td>\n",
       "      <td>model_10</td>\n",
       "    </tr>\n",
       "    <tr>\n",
       "      <th>0</th>\n",
       "      <td>0.081971</td>\n",
       "      <td>0.180374</td>\n",
       "      <td>30.838148</td>\n",
       "      <td>29.840220</td>\n",
       "      <td>0.053481</td>\n",
       "      <td>0.088697</td>\n",
       "      <td>20.594977</td>\n",
       "      <td>27.671222</td>\n",
       "      <td>model_17</td>\n",
       "    </tr>\n",
       "    <tr>\n",
       "      <th>0</th>\n",
       "      <td>0.096832</td>\n",
       "      <td>0.183514</td>\n",
       "      <td>35.144292</td>\n",
       "      <td>29.933539</td>\n",
       "      <td>0.063371</td>\n",
       "      <td>0.087693</td>\n",
       "      <td>22.711749</td>\n",
       "      <td>27.740710</td>\n",
       "      <td>model_11</td>\n",
       "    </tr>\n",
       "    <tr>\n",
       "      <th>0</th>\n",
       "      <td>0.094551</td>\n",
       "      <td>0.186640</td>\n",
       "      <td>34.983517</td>\n",
       "      <td>30.068230</td>\n",
       "      <td>0.061687</td>\n",
       "      <td>0.089040</td>\n",
       "      <td>22.631885</td>\n",
       "      <td>27.864221</td>\n",
       "      <td>model_12</td>\n",
       "    </tr>\n",
       "    <tr>\n",
       "      <th>0</th>\n",
       "      <td>0.072130</td>\n",
       "      <td>0.184675</td>\n",
       "      <td>29.385835</td>\n",
       "      <td>29.946281</td>\n",
       "      <td>0.047521</td>\n",
       "      <td>0.094975</td>\n",
       "      <td>19.693381</td>\n",
       "      <td>28.047770</td>\n",
       "      <td>model_18</td>\n",
       "    </tr>\n",
       "    <tr>\n",
       "      <th>0</th>\n",
       "      <td>0.079509</td>\n",
       "      <td>0.179292</td>\n",
       "      <td>30.300937</td>\n",
       "      <td>29.987524</td>\n",
       "      <td>0.052254</td>\n",
       "      <td>0.087464</td>\n",
       "      <td>19.924038</td>\n",
       "      <td>28.198976</td>\n",
       "      <td>model_19</td>\n",
       "    </tr>\n",
       "    <tr>\n",
       "      <th>0</th>\n",
       "      <td>0.076817</td>\n",
       "      <td>0.181082</td>\n",
       "      <td>29.432357</td>\n",
       "      <td>30.086736</td>\n",
       "      <td>0.050308</td>\n",
       "      <td>0.090035</td>\n",
       "      <td>19.651709</td>\n",
       "      <td>28.281466</td>\n",
       "      <td>model_22</td>\n",
       "    </tr>\n",
       "    <tr>\n",
       "      <th>0</th>\n",
       "      <td>0.078285</td>\n",
       "      <td>0.182405</td>\n",
       "      <td>30.291159</td>\n",
       "      <td>30.158849</td>\n",
       "      <td>0.051018</td>\n",
       "      <td>0.090487</td>\n",
       "      <td>19.950066</td>\n",
       "      <td>28.454861</td>\n",
       "      <td>model_20</td>\n",
       "    </tr>\n",
       "    <tr>\n",
       "      <th>0</th>\n",
       "      <td>0.074478</td>\n",
       "      <td>0.184552</td>\n",
       "      <td>29.192070</td>\n",
       "      <td>30.185934</td>\n",
       "      <td>0.048717</td>\n",
       "      <td>0.094717</td>\n",
       "      <td>19.555087</td>\n",
       "      <td>28.478270</td>\n",
       "      <td>model_23</td>\n",
       "    </tr>\n",
       "    <tr>\n",
       "      <th>0</th>\n",
       "      <td>0.076125</td>\n",
       "      <td>0.189658</td>\n",
       "      <td>30.122083</td>\n",
       "      <td>30.326196</td>\n",
       "      <td>0.049578</td>\n",
       "      <td>0.099083</td>\n",
       "      <td>19.879811</td>\n",
       "      <td>28.681751</td>\n",
       "      <td>model_21</td>\n",
       "    </tr>\n",
       "    <tr>\n",
       "      <th>0</th>\n",
       "      <td>0.072064</td>\n",
       "      <td>0.183586</td>\n",
       "      <td>28.561679</td>\n",
       "      <td>30.311340</td>\n",
       "      <td>0.047093</td>\n",
       "      <td>0.093729</td>\n",
       "      <td>19.084569</td>\n",
       "      <td>28.697752</td>\n",
       "      <td>model_25</td>\n",
       "    </tr>\n",
       "    <tr>\n",
       "      <th>0</th>\n",
       "      <td>0.068011</td>\n",
       "      <td>0.191136</td>\n",
       "      <td>28.344372</td>\n",
       "      <td>30.334204</td>\n",
       "      <td>0.044838</td>\n",
       "      <td>0.104142</td>\n",
       "      <td>19.038113</td>\n",
       "      <td>28.750062</td>\n",
       "      <td>model_24</td>\n",
       "    </tr>\n",
       "    <tr>\n",
       "      <th>0</th>\n",
       "      <td>0.058742</td>\n",
       "      <td>0.194508</td>\n",
       "      <td>26.643776</td>\n",
       "      <td>30.536333</td>\n",
       "      <td>0.039128</td>\n",
       "      <td>0.106358</td>\n",
       "      <td>17.911105</td>\n",
       "      <td>28.929176</td>\n",
       "      <td>model_27</td>\n",
       "    </tr>\n",
       "    <tr>\n",
       "      <th>0</th>\n",
       "      <td>0.068348</td>\n",
       "      <td>0.188464</td>\n",
       "      <td>28.116713</td>\n",
       "      <td>30.484852</td>\n",
       "      <td>0.044700</td>\n",
       "      <td>0.099251</td>\n",
       "      <td>18.832620</td>\n",
       "      <td>28.934604</td>\n",
       "      <td>model_26</td>\n",
       "    </tr>\n",
       "    <tr>\n",
       "      <th>0</th>\n",
       "      <td>0.142170</td>\n",
       "      <td>0.191877</td>\n",
       "      <td>46.582488</td>\n",
       "      <td>30.915443</td>\n",
       "      <td>0.095259</td>\n",
       "      <td>0.092979</td>\n",
       "      <td>28.313922</td>\n",
       "      <td>29.669382</td>\n",
       "      <td>model_1</td>\n",
       "    </tr>\n",
       "    <tr>\n",
       "      <th>0</th>\n",
       "      <td>0.139531</td>\n",
       "      <td>0.192165</td>\n",
       "      <td>46.167765</td>\n",
       "      <td>30.985100</td>\n",
       "      <td>0.092722</td>\n",
       "      <td>0.093196</td>\n",
       "      <td>28.178519</td>\n",
       "      <td>29.890968</td>\n",
       "      <td>model_2</td>\n",
       "    </tr>\n",
       "    <tr>\n",
       "      <th>0</th>\n",
       "      <td>0.135261</td>\n",
       "      <td>0.192986</td>\n",
       "      <td>45.532989</td>\n",
       "      <td>31.066041</td>\n",
       "      <td>0.089513</td>\n",
       "      <td>0.094243</td>\n",
       "      <td>27.997924</td>\n",
       "      <td>30.127406</td>\n",
       "      <td>model_3</td>\n",
       "    </tr>\n",
       "  </tbody>\n",
       "</table>\n",
       "</div>"
      ],
      "text/plain": [
       "   MSE_train   MSE_val  MAPE_train   MAPE_val  WMSE_train  WMSE_val  \\\n",
       "0   0.099114  0.172381   33.958840  28.954270    0.064567  0.080375   \n",
       "0   0.103574  0.169218   34.596133  28.924836    0.067574  0.079680   \n",
       "0   0.109011  0.164017   35.935025  28.774299    0.070818  0.077457   \n",
       "0   0.101613  0.167166   34.688619  28.823549    0.065820  0.079100   \n",
       "0   0.113924  0.161996   36.800966  28.817338    0.074514  0.076752   \n",
       "0   0.090006  0.175713   32.593676  29.189016    0.058616  0.082299   \n",
       "0   0.092313  0.176712   32.483899  29.400749    0.060563  0.083575   \n",
       "0   0.089540  0.177165   32.184905  29.527748    0.058617  0.084431   \n",
       "0   0.082759  0.177586   31.224906  29.627837    0.054040  0.085316   \n",
       "0   0.085839  0.179318   31.340658  29.792903    0.056018  0.086872   \n",
       "0   0.098475  0.181960   35.289020  29.827587    0.064926  0.086820   \n",
       "0   0.081971  0.180374   30.838148  29.840220    0.053481  0.088697   \n",
       "0   0.096832  0.183514   35.144292  29.933539    0.063371  0.087693   \n",
       "0   0.094551  0.186640   34.983517  30.068230    0.061687  0.089040   \n",
       "0   0.072130  0.184675   29.385835  29.946281    0.047521  0.094975   \n",
       "0   0.079509  0.179292   30.300937  29.987524    0.052254  0.087464   \n",
       "0   0.076817  0.181082   29.432357  30.086736    0.050308  0.090035   \n",
       "0   0.078285  0.182405   30.291159  30.158849    0.051018  0.090487   \n",
       "0   0.074478  0.184552   29.192070  30.185934    0.048717  0.094717   \n",
       "0   0.076125  0.189658   30.122083  30.326196    0.049578  0.099083   \n",
       "0   0.072064  0.183586   28.561679  30.311340    0.047093  0.093729   \n",
       "0   0.068011  0.191136   28.344372  30.334204    0.044838  0.104142   \n",
       "0   0.058742  0.194508   26.643776  30.536333    0.039128  0.106358   \n",
       "0   0.068348  0.188464   28.116713  30.484852    0.044700  0.099251   \n",
       "0   0.142170  0.191877   46.582488  30.915443    0.095259  0.092979   \n",
       "0   0.139531  0.192165   46.167765  30.985100    0.092722  0.093196   \n",
       "0   0.135261  0.192986   45.532989  31.066041    0.089513  0.094243   \n",
       "\n",
       "   WMAPE_train  WMAPE_val     model  \n",
       "0    22.722520  25.888313   model_8  \n",
       "0    23.094165  26.096453   model_7  \n",
       "0    23.822756  26.166214   model_5  \n",
       "0    23.090003  26.257069   model_6  \n",
       "0    24.298458  26.328408   model_4  \n",
       "0    21.803976  26.443377   model_9  \n",
       "0    21.759022  26.621954  model_13  \n",
       "0    21.584865  27.038866  model_14  \n",
       "0    20.884636  27.281167  model_15  \n",
       "0    20.910482  27.507137  model_16  \n",
       "0    22.705277  27.588605  model_10  \n",
       "0    20.594977  27.671222  model_17  \n",
       "0    22.711749  27.740710  model_11  \n",
       "0    22.631885  27.864221  model_12  \n",
       "0    19.693381  28.047770  model_18  \n",
       "0    19.924038  28.198976  model_19  \n",
       "0    19.651709  28.281466  model_22  \n",
       "0    19.950066  28.454861  model_20  \n",
       "0    19.555087  28.478270  model_23  \n",
       "0    19.879811  28.681751  model_21  \n",
       "0    19.084569  28.697752  model_25  \n",
       "0    19.038113  28.750062  model_24  \n",
       "0    17.911105  28.929176  model_27  \n",
       "0    18.832620  28.934604  model_26  \n",
       "0    28.313922  29.669382   model_1  \n",
       "0    28.178519  29.890968   model_2  \n",
       "0    27.997924  30.127406   model_3  "
      ]
     },
     "execution_count": 62,
     "metadata": {},
     "output_type": "execute_result"
    }
   ],
   "source": [
    "df_res_xgb.sort_values(by=\"WMAPE_val\", ascending=True, inplace=True)\n",
    "df_res_xgb"
   ]
  },
  {
   "cell_type": "code",
   "execution_count": 234,
   "metadata": {},
   "outputs": [
    {
     "data": {
      "text/plain": [
       "{'parameters': {'n_estimators': 100, 'learning_rate': 0.1, 'max_depth': 5},\n",
       " 'metrics':    MSE_train   MSE_val  MAPE_train  MAPE_val  WMSE_train  WMSE_val  \\\n",
       " 0   0.099114  0.172381    33.95884  28.95427    0.064567  0.080375   \n",
       " \n",
       "    WMAPE_train  WMAPE_val  \n",
       " 0     22.72252  25.888313  ,\n",
       " 'forecast':                    forecast\n",
       "            permno          \n",
       " 1970-03-31 10006   0.846441\n",
       "            10102   1.057906\n",
       "            10137   0.736685\n",
       "            10145   1.034371\n",
       "            10153   1.001991\n",
       " ...                     ...\n",
       " 2022-02-28 93369        NaN\n",
       "            93374        NaN\n",
       "            93423        NaN\n",
       "            93429        NaN\n",
       "            93436        NaN\n",
       " \n",
       " [793628 rows x 1 columns],\n",
       " 'preprocessor': ColumnTransformer(remainder='passthrough',\n",
       "                   transformers=[('winsorize', Winsorizer(),\n",
       "                                  ['log_size', 'log_bm', 'log_pcf', 'mom',\n",
       "                                   'strev', 'vol', 'roa', 'roe', 'log_age_lb',\n",
       "                                   'price', 'log_to', 'rf', 'rm', 'ols_3m_d',\n",
       "                                   'ols_1y_d', 'ols_5y_m', 'market_cap',\n",
       "                                   'capm_return', 'log_size_rel_diff',\n",
       "                                   'log_bm_rel_diff', 'log_pcf_rel_diff',\n",
       "                                   'mom_rel_diff', 'strev_rel_diff',\n",
       "                                   'vol_rel_diff', 'roa_rel_diff',\n",
       "                                   'roe_rel_diff', 'log_to_rel_diff',\n",
       "                                   'ols_3m_d_rel_diff', 'log_price',\n",
       "                                   'log_size_diff', ...])]),\n",
       " 'features': ['log_size',\n",
       "  'log_bm',\n",
       "  'log_pcf',\n",
       "  'mom',\n",
       "  'strev',\n",
       "  'vol',\n",
       "  'roa',\n",
       "  'roe',\n",
       "  'log_age_lb',\n",
       "  'price',\n",
       "  'log_to',\n",
       "  'rf',\n",
       "  'rm',\n",
       "  'ols_3m_d',\n",
       "  'ols_1y_d',\n",
       "  'ols_5y_m',\n",
       "  'market_cap',\n",
       "  'capm_return',\n",
       "  'log_size_rel_diff',\n",
       "  'log_bm_rel_diff',\n",
       "  'log_pcf_rel_diff',\n",
       "  'mom_rel_diff',\n",
       "  'strev_rel_diff',\n",
       "  'vol_rel_diff',\n",
       "  'roa_rel_diff',\n",
       "  'roe_rel_diff',\n",
       "  'log_to_rel_diff',\n",
       "  'ols_3m_d_rel_diff',\n",
       "  'log_price',\n",
       "  'log_size_diff',\n",
       "  'log_bm_diff',\n",
       "  'log_pcf_diff',\n",
       "  'log_age_lb_diff',\n",
       "  'log_price_diff',\n",
       "  'log_to_diff',\n",
       "  'forecast']}"
      ]
     },
     "execution_count": 234,
     "metadata": {},
     "output_type": "execute_result"
    }
   ],
   "source": [
    "results_xgb[\"model_8\"]"
   ]
  },
  {
   "cell_type": "code",
   "execution_count": 66,
   "metadata": {},
   "outputs": [
    {
     "data": {
      "text/html": [
       "<div>\n",
       "<style scoped>\n",
       "    .dataframe tbody tr th:only-of-type {\n",
       "        vertical-align: middle;\n",
       "    }\n",
       "\n",
       "    .dataframe tbody tr th {\n",
       "        vertical-align: top;\n",
       "    }\n",
       "\n",
       "    .dataframe thead th {\n",
       "        text-align: right;\n",
       "    }\n",
       "</style>\n",
       "<table border=\"1\" class=\"dataframe\">\n",
       "  <thead>\n",
       "    <tr style=\"text-align: right;\">\n",
       "      <th></th>\n",
       "      <th>MSE_train</th>\n",
       "      <th>MSE_val</th>\n",
       "      <th>MAPE_train</th>\n",
       "      <th>MAPE_val</th>\n",
       "      <th>WMSE_train</th>\n",
       "      <th>WMSE_val</th>\n",
       "      <th>WMAPE_train</th>\n",
       "      <th>WMAPE_val</th>\n",
       "      <th>model</th>\n",
       "    </tr>\n",
       "  </thead>\n",
       "  <tbody>\n",
       "    <tr>\n",
       "      <th>0</th>\n",
       "      <td>0.099114</td>\n",
       "      <td>0.172381</td>\n",
       "      <td>33.95884</td>\n",
       "      <td>28.95427</td>\n",
       "      <td>0.064567</td>\n",
       "      <td>0.080375</td>\n",
       "      <td>22.72252</td>\n",
       "      <td>25.888313</td>\n",
       "      <td>xgb</td>\n",
       "    </tr>\n",
       "  </tbody>\n",
       "</table>\n",
       "</div>"
      ],
      "text/plain": [
       "   MSE_train   MSE_val  MAPE_train  MAPE_val  WMSE_train  WMSE_val  \\\n",
       "0   0.099114  0.172381    33.95884  28.95427    0.064567  0.080375   \n",
       "\n",
       "   WMAPE_train  WMAPE_val model  \n",
       "0     22.72252  25.888313   xgb  "
      ]
     },
     "execution_count": 66,
     "metadata": {},
     "output_type": "execute_result"
    }
   ],
   "source": [
    "df_res_xgb = df_res_xgb.iloc[0:1]\n",
    "df_res_xgb[\"model\"] = [\"xgb\"]\n",
    "df_res_xgb"
   ]
  },
  {
   "cell_type": "markdown",
   "metadata": {},
   "source": [
    "# LSTM"
   ]
  },
  {
   "cell_type": "code",
   "execution_count": 193,
   "metadata": {},
   "outputs": [
    {
     "name": "stderr",
     "output_type": "stream",
     "text": [
      "/Users/thibaut/Library/Python/3.9/lib/python/site-packages/keras/src/layers/rnn/rnn.py:204: UserWarning:\n",
      "\n",
      "Do not pass an `input_shape`/`input_dim` argument to a layer. When using Sequential models, prefer using an `Input(shape)` object as the first layer in the model instead.\n",
      "\n"
     ]
    }
   ],
   "source": [
    "L_features = df.columns.to_list()\n",
    "L_features.remove(\"f_ols_1y_d\")\n",
    "target_name = \"f_ols_1y_d\"\n",
    "\n",
    "preprocessor = ColumnTransformer([\n",
    "    ('winsorize', column_transforms.Winsorizer(), L_features),  \n",
    "], remainder='passthrough')\n",
    "\n",
    "seq_length = 10 \n",
    "lstm_model = Sequential([\n",
    "    LSTM(50, activation=\"relu\", return_sequences=False, input_shape=(seq_length, 1)),\n",
    "    Dense(1)  # Output layer\n",
    "])\n",
    "\n",
    "lstm_model.compile(optimizer=\"adam\", loss=\"mse\")"
   ]
  },
  {
   "cell_type": "code",
   "execution_count": 194,
   "metadata": {},
   "outputs": [
    {
     "name": "stdout",
     "output_type": "stream",
     "text": [
      "\u001b[1m20783/20783\u001b[0m \u001b[32m━━━━━━━━━━━━━━━━━━━━\u001b[0m\u001b[37m\u001b[0m \u001b[1m340s\u001b[0m 16ms/step - loss: 2.4444\n"
     ]
    }
   ],
   "source": [
    "df_X_train = df.loc[beginning_train:beginning_validation, L_features]\n",
    "df_X_train_transformed = preprocessor.fit_transform(df_X_train)\n",
    "df_y_train = df.loc[beginning_train:beginning_validation, target_name]\n",
    "lstm_model.fit(df_X_train_transformed, df_y_train)\n",
    "df_X_forecast = df.loc[beginning_validation:end_validation, L_features]\n",
    "df_X_forecast_transformed = preprocessor.transform(df_X_forecast)"
   ]
  },
  {
   "cell_type": "code",
   "execution_count": 195,
   "metadata": {},
   "outputs": [
    {
     "name": "stdout",
     "output_type": "stream",
     "text": [
      "\u001b[1m20783/20783\u001b[0m \u001b[32m━━━━━━━━━━━━━━━━━━━━\u001b[0m\u001b[37m\u001b[0m \u001b[1m125s\u001b[0m 6ms/step\n",
      "\u001b[1m1175/1175\u001b[0m \u001b[32m━━━━━━━━━━━━━━━━━━━━\u001b[0m\u001b[37m\u001b[0m \u001b[1m7s\u001b[0m 6ms/step\n"
     ]
    }
   ],
   "source": [
    "train_forecast = lstm_model.predict(df_X_train_transformed)\n",
    "train_forecast = pd.Series(train_forecast.flatten(),  index = df_X_train.index)\n",
    "\n",
    "validation_forecast = lstm_model.predict(df_X_forecast_transformed)\n",
    "validation_forecast = pd.Series(validation_forecast.flatten(),  index = df_X_forecast.index)"
   ]
  },
  {
   "cell_type": "code",
   "execution_count": 196,
   "metadata": {},
   "outputs": [],
   "source": [
    "df_lstm = df.copy()\n",
    "df_lstm['forecast'] = pd.concat([train_forecast, validation_forecast], axis=0)"
   ]
  },
  {
   "cell_type": "code",
   "execution_count": 207,
   "metadata": {},
   "outputs": [],
   "source": [
    "mse_train = utils.mse(df_lstm, 'forecast', 'f_ols_1y_d', beginning_train, beginning_validation)\n",
    "mape_train =  utils.mape(df_lstm, 'forecast', 'f_ols_1y_d', beginning_train, beginning_validation)\n",
    "w_mse_train = utils.value_weighted_mse(df_lstm, 'forecast', 'f_ols_1y_d', beginning_train, beginning_validation)\n",
    "w_mape_train = utils.value_weighted_mape(df_lstm, 'forecast', 'f_ols_1y_d', beginning_train, beginning_validation)\n",
    "\n",
    "mse_val = utils.mse(df_lstm, 'forecast', 'f_ols_1y_d', beginning_validation, end_validation)\n",
    "mape_val =  utils.mape(df_lstm, 'forecast', 'f_ols_1y_d', beginning_validation, end_validation)\n",
    "w_mse_val = utils.value_weighted_mse(df_lstm, 'forecast', 'f_ols_1y_d', beginning_validation, end_validation)\n",
    "w_mape_val = utils.value_weighted_mape(df_lstm, 'forecast', 'f_ols_1y_d', beginning_validation, end_validation)\n",
    "\n",
    "df_res_lstm = pd.DataFrame({\"MSE_train\": [mse_train],\"MSE_val\": [mse_val], \"MAPE_train\": [mape_train], \"MAPE_val\": [mape_val], \"WMSE_train\":[w_mse_train], \"WMSE_val\":[w_mse_val], \"WMAPE_train\":[w_mape_train],\"WMAPE_val\":[w_mape_val]})\n",
    "df_res_lstm[\"model\"] = [\"lstm\"]"
   ]
  },
  {
   "cell_type": "code",
   "execution_count": 208,
   "metadata": {},
   "outputs": [
    {
     "data": {
      "text/html": [
       "<div>\n",
       "<style scoped>\n",
       "    .dataframe tbody tr th:only-of-type {\n",
       "        vertical-align: middle;\n",
       "    }\n",
       "\n",
       "    .dataframe tbody tr th {\n",
       "        vertical-align: top;\n",
       "    }\n",
       "\n",
       "    .dataframe thead th {\n",
       "        text-align: right;\n",
       "    }\n",
       "</style>\n",
       "<table border=\"1\" class=\"dataframe\">\n",
       "  <thead>\n",
       "    <tr style=\"text-align: right;\">\n",
       "      <th></th>\n",
       "      <th>MSE_train</th>\n",
       "      <th>MSE_val</th>\n",
       "      <th>MAPE_train</th>\n",
       "      <th>MAPE_val</th>\n",
       "      <th>WMSE_train</th>\n",
       "      <th>WMSE_val</th>\n",
       "      <th>WMAPE_train</th>\n",
       "      <th>WMAPE_val</th>\n",
       "      <th>model</th>\n",
       "    </tr>\n",
       "  </thead>\n",
       "  <tbody>\n",
       "    <tr>\n",
       "      <th>0</th>\n",
       "      <td>0.137572</td>\n",
       "      <td>0.16604</td>\n",
       "      <td>40.867455</td>\n",
       "      <td>32.222213</td>\n",
       "      <td>0.109116</td>\n",
       "      <td>0.110498</td>\n",
       "      <td>32.906015</td>\n",
       "      <td>37.665936</td>\n",
       "      <td>lstm</td>\n",
       "    </tr>\n",
       "  </tbody>\n",
       "</table>\n",
       "</div>"
      ],
      "text/plain": [
       "   MSE_train  MSE_val  MAPE_train   MAPE_val  WMSE_train  WMSE_val  \\\n",
       "0   0.137572  0.16604   40.867455  32.222213    0.109116  0.110498   \n",
       "\n",
       "   WMAPE_train  WMAPE_val model  \n",
       "0    32.906015  37.665936  lstm  "
      ]
     },
     "execution_count": 208,
     "metadata": {},
     "output_type": "execute_result"
    }
   ],
   "source": [
    "df_res_lstm"
   ]
  },
  {
   "cell_type": "markdown",
   "metadata": {},
   "source": [
    "# Additional model: CatBoost"
   ]
  },
  {
   "cell_type": "code",
   "execution_count": 105,
   "metadata": {},
   "outputs": [],
   "source": [
    "L_features = df.columns.to_list()\n",
    "L_features.remove(\"f_ols_1y_d\")\n",
    "target_name = \"f_ols_1y_d\""
   ]
  },
  {
   "cell_type": "code",
   "execution_count": 106,
   "metadata": {},
   "outputs": [],
   "source": [
    "df_X_train = df.loc[beginning_train:beginning_validation, L_features]\n",
    "df_y_train = df.loc[beginning_train:beginning_validation, target_name]\n",
    "\n",
    "df_X_validation = df.loc[beginning_validation:end_validation, L_features]\n",
    "df_y_validation = df.loc[beginning_validation:end_validation, target_name]\n",
    "\n",
    "train_pool = cb.Pool(df_X_train, df_y_train)\n",
    "validation_pool  = cb.Pool(df_X_validation, df_y_validation)"
   ]
  },
  {
   "cell_type": "code",
   "execution_count": 108,
   "metadata": {},
   "outputs": [
    {
     "data": {
      "application/vnd.jupyter.widget-view+json": {
       "model_id": "77cee686eb004d768e130d3f0a2b30c7",
       "version_major": 2,
       "version_minor": 0
      },
      "text/plain": [
       "MetricVisualizer(layout=Layout(align_self='stretch', height='500px'))"
      ]
     },
     "metadata": {},
     "output_type": "display_data"
    },
    {
     "data": {
      "text/plain": [
       "<catboost.core.CatBoostRegressor at 0x1461e91f0>"
      ]
     },
     "execution_count": 108,
     "metadata": {},
     "output_type": "execute_result"
    }
   ],
   "source": [
    "catboost_model = cb.CatBoostRegressor(loss_function=\"RMSE\", verbose=False)\n",
    "catboost_model.fit(train_pool, eval_set=validation_pool, plot=True)"
   ]
  },
  {
   "cell_type": "code",
   "execution_count": 109,
   "metadata": {},
   "outputs": [],
   "source": [
    "train_forecast = pd.Series(catboost_model.predict(train_pool),  index = df_X_train.index)\n",
    "validation_forecast = pd.Series(catboost_model.predict(validation_pool),  index = df_X_validation.index)\n",
    "\n",
    "df_catboost = df.copy()\n",
    "df_catboost['forecast'] = pd.concat([train_forecast, validation_forecast], axis=0)\n",
    "\n",
    "mse_train = utils.mse(df_catboost, 'forecast', 'f_ols_1y_d', beginning_train, beginning_validation)\n",
    "mape_train =  utils.mape(df_catboost, 'forecast', 'f_ols_1y_d', beginning_train, beginning_validation)\n",
    "w_mse_train = utils.value_weighted_mse(df_catboost, 'forecast', 'f_ols_1y_d', beginning_train, beginning_validation)\n",
    "w_mape_train = utils.value_weighted_mape(df_catboost, 'forecast', 'f_ols_1y_d', beginning_train, beginning_validation)\n",
    "\n",
    "mse_val = utils.mse(df_catboost, 'forecast', 'f_ols_1y_d', beginning_validation, end_validation)\n",
    "mape_val =  utils.mape(df_catboost, 'forecast', 'f_ols_1y_d', beginning_validation, end_validation)\n",
    "w_mse_val = utils.value_weighted_mse(df_catboost, 'forecast', 'f_ols_1y_d', beginning_validation, end_validation)\n",
    "w_mape_val = utils.value_weighted_mape(df_catboost, 'forecast', 'f_ols_1y_d', beginning_validation, end_validation)\n",
    "\n",
    "df_res_catboost = pd.DataFrame({\"MSE_train\": [mse_train],\"MSE_val\": [mse_val], \"MAPE_train\": [mape_train], \"MAPE_val\": [mape_val], \"WMSE_train\":[w_mse_train], \"WMSE_val\":[w_mse_val], \"WMAPE_train\":[w_mape_train],\"WMAPE_val\":[w_mape_val]})\n",
    "df_res_catboost[\"model\"] = [\"catboost\"]"
   ]
  },
  {
   "cell_type": "code",
   "execution_count": 110,
   "metadata": {},
   "outputs": [
    {
     "data": {
      "text/html": [
       "<div>\n",
       "<style scoped>\n",
       "    .dataframe tbody tr th:only-of-type {\n",
       "        vertical-align: middle;\n",
       "    }\n",
       "\n",
       "    .dataframe tbody tr th {\n",
       "        vertical-align: top;\n",
       "    }\n",
       "\n",
       "    .dataframe thead th {\n",
       "        text-align: right;\n",
       "    }\n",
       "</style>\n",
       "<table border=\"1\" class=\"dataframe\">\n",
       "  <thead>\n",
       "    <tr style=\"text-align: right;\">\n",
       "      <th></th>\n",
       "      <th>MSE_train</th>\n",
       "      <th>MSE_val</th>\n",
       "      <th>MAPE_train</th>\n",
       "      <th>MAPE_val</th>\n",
       "      <th>WMSE_train</th>\n",
       "      <th>WMSE_val</th>\n",
       "      <th>WMAPE_train</th>\n",
       "      <th>WMAPE_val</th>\n",
       "      <th>model</th>\n",
       "    </tr>\n",
       "  </thead>\n",
       "  <tbody>\n",
       "    <tr>\n",
       "      <th>0</th>\n",
       "      <td>0.104903</td>\n",
       "      <td>0.155064</td>\n",
       "      <td>35.189524</td>\n",
       "      <td>28.095324</td>\n",
       "      <td>0.068381</td>\n",
       "      <td>0.075721</td>\n",
       "      <td>23.619375</td>\n",
       "      <td>25.502699</td>\n",
       "      <td>catboost</td>\n",
       "    </tr>\n",
       "  </tbody>\n",
       "</table>\n",
       "</div>"
      ],
      "text/plain": [
       "   MSE_train   MSE_val  MAPE_train   MAPE_val  WMSE_train  WMSE_val  \\\n",
       "0   0.104903  0.155064   35.189524  28.095324    0.068381  0.075721   \n",
       "\n",
       "   WMAPE_train  WMAPE_val     model  \n",
       "0    23.619375  25.502699  catboost  "
      ]
     },
     "execution_count": 110,
     "metadata": {},
     "output_type": "execute_result"
    }
   ],
   "source": [
    "df_res_catboost"
   ]
  },
  {
   "cell_type": "markdown",
   "metadata": {},
   "source": [
    "# Model selection"
   ]
  },
  {
   "cell_type": "code",
   "execution_count": 209,
   "metadata": {},
   "outputs": [
    {
     "data": {
      "text/html": [
       "<div>\n",
       "<style scoped>\n",
       "    .dataframe tbody tr th:only-of-type {\n",
       "        vertical-align: middle;\n",
       "    }\n",
       "\n",
       "    .dataframe tbody tr th {\n",
       "        vertical-align: top;\n",
       "    }\n",
       "\n",
       "    .dataframe thead th {\n",
       "        text-align: right;\n",
       "    }\n",
       "</style>\n",
       "<table border=\"1\" class=\"dataframe\">\n",
       "  <thead>\n",
       "    <tr style=\"text-align: right;\">\n",
       "      <th></th>\n",
       "      <th>MSE_train</th>\n",
       "      <th>MSE_val</th>\n",
       "      <th>MAPE_train</th>\n",
       "      <th>MAPE_val</th>\n",
       "      <th>WMSE_train</th>\n",
       "      <th>WMSE_val</th>\n",
       "      <th>WMAPE_train</th>\n",
       "      <th>WMAPE_val</th>\n",
       "      <th>model</th>\n",
       "    </tr>\n",
       "  </thead>\n",
       "  <tbody>\n",
       "    <tr>\n",
       "      <th>0</th>\n",
       "      <td>0.104903</td>\n",
       "      <td>0.155064</td>\n",
       "      <td>35.189524</td>\n",
       "      <td>28.095324</td>\n",
       "      <td>0.068381</td>\n",
       "      <td>0.075721</td>\n",
       "      <td>23.619375</td>\n",
       "      <td>25.502699</td>\n",
       "      <td>catboost</td>\n",
       "    </tr>\n",
       "    <tr>\n",
       "      <th>0</th>\n",
       "      <td>0.122000</td>\n",
       "      <td>0.168773</td>\n",
       "      <td>37.814720</td>\n",
       "      <td>28.611141</td>\n",
       "      <td>0.080765</td>\n",
       "      <td>0.077029</td>\n",
       "      <td>25.342115</td>\n",
       "      <td>25.798405</td>\n",
       "      <td>lasso</td>\n",
       "    </tr>\n",
       "    <tr>\n",
       "      <th>0</th>\n",
       "      <td>0.121019</td>\n",
       "      <td>0.192412</td>\n",
       "      <td>37.835262</td>\n",
       "      <td>29.848019</td>\n",
       "      <td>0.081458</td>\n",
       "      <td>0.082829</td>\n",
       "      <td>25.667962</td>\n",
       "      <td>25.841428</td>\n",
       "      <td>lr</td>\n",
       "    </tr>\n",
       "    <tr>\n",
       "      <th>0</th>\n",
       "      <td>0.099114</td>\n",
       "      <td>0.172381</td>\n",
       "      <td>33.958840</td>\n",
       "      <td>28.954270</td>\n",
       "      <td>0.064567</td>\n",
       "      <td>0.080375</td>\n",
       "      <td>22.722520</td>\n",
       "      <td>25.888313</td>\n",
       "      <td>xgb</td>\n",
       "    </tr>\n",
       "    <tr>\n",
       "      <th>0</th>\n",
       "      <td>0.119933</td>\n",
       "      <td>0.159466</td>\n",
       "      <td>38.392012</td>\n",
       "      <td>28.716633</td>\n",
       "      <td>0.078274</td>\n",
       "      <td>0.075658</td>\n",
       "      <td>25.010092</td>\n",
       "      <td>26.191863</td>\n",
       "      <td>rf</td>\n",
       "    </tr>\n",
       "    <tr>\n",
       "      <th>0</th>\n",
       "      <td>0.137572</td>\n",
       "      <td>0.166040</td>\n",
       "      <td>40.867455</td>\n",
       "      <td>32.222213</td>\n",
       "      <td>0.109116</td>\n",
       "      <td>0.110498</td>\n",
       "      <td>32.906015</td>\n",
       "      <td>37.665936</td>\n",
       "      <td>lstm</td>\n",
       "    </tr>\n",
       "  </tbody>\n",
       "</table>\n",
       "</div>"
      ],
      "text/plain": [
       "   MSE_train   MSE_val  MAPE_train   MAPE_val  WMSE_train  WMSE_val  \\\n",
       "0   0.104903  0.155064   35.189524  28.095324    0.068381  0.075721   \n",
       "0   0.122000  0.168773   37.814720  28.611141    0.080765  0.077029   \n",
       "0   0.121019  0.192412   37.835262  29.848019    0.081458  0.082829   \n",
       "0   0.099114  0.172381   33.958840  28.954270    0.064567  0.080375   \n",
       "0   0.119933  0.159466   38.392012  28.716633    0.078274  0.075658   \n",
       "0   0.137572  0.166040   40.867455  32.222213    0.109116  0.110498   \n",
       "\n",
       "   WMAPE_train  WMAPE_val     model  \n",
       "0    23.619375  25.502699  catboost  \n",
       "0    25.342115  25.798405     lasso  \n",
       "0    25.667962  25.841428        lr  \n",
       "0    22.722520  25.888313       xgb  \n",
       "0    25.010092  26.191863        rf  \n",
       "0    32.906015  37.665936      lstm  "
      ]
     },
     "execution_count": 209,
     "metadata": {},
     "output_type": "execute_result"
    }
   ],
   "source": [
    "L_res = [df_res_lr, df_res_lasso, df_res_rf, df_res_xgb, df_res_catboost, df_res_lstm]\n",
    "df_res = pd.concat(L_res, axis=0)\n",
    "df_res.sort_values(by=\"WMAPE_val\", ascending=True, inplace=True)\n",
    "df_res"
   ]
  },
  {
   "cell_type": "markdown",
   "metadata": {},
   "source": [
    "# Interpretation of the best model (CatBoost for the moment)"
   ]
  },
  {
   "cell_type": "markdown",
   "metadata": {},
   "source": [
    "### Feature importance based on variance reduction"
   ]
  },
  {
   "cell_type": "code",
   "execution_count": 111,
   "metadata": {},
   "outputs": [
    {
     "data": {
      "image/png": "[encoded data removed]",
      "text/plain": [
       "<Figure size 800x400 with 1 Axes>"
      ]
     },
     "metadata": {},
     "output_type": "display_data"
    }
   ],
   "source": [
    "plt.figure(figsize=(8, 4))\n",
    "\n",
    "sorted_feature_importance = catboost_model.feature_importances_.argsort()[::-1]\n",
    "\n",
    "plt.bar(df_X_train.columns[sorted_feature_importance], \n",
    "        catboost_model.feature_importances_[sorted_feature_importance], \n",
    "        color='salmon')\n",
    "\n",
    "plt.xticks(rotation=90)\n",
    "plt.ylabel('Feature Importance', fontsize=18)\n",
    "plt.xlabel('Features', fontsize=18)\n",
    "plt.title('Feature Importance based on variance reduction', fontsize=18)\n",
    "\n",
    "plt.show()"
   ]
  },
  {
   "cell_type": "code",
   "execution_count": 112,
   "metadata": {},
   "outputs": [
    {
     "data": {
      "image/png": "[encoded data removed]",
      "text/plain": [
       "<Figure size 800x400 with 1 Axes>"
      ]
     },
     "metadata": {},
     "output_type": "display_data"
    }
   ],
   "source": [
    "sorted_feature_importance = catboost_model.feature_importances_.argsort()[::-1]\n",
    "\n",
    "# Select top 10 features\n",
    "top_n = 10\n",
    "top_features = df_X_train.columns[sorted_feature_importance][:top_n]\n",
    "top_importances = catboost_model.feature_importances_[sorted_feature_importance][:top_n]\n",
    "\n",
    "# Plot top 10 features\n",
    "plt.figure(figsize=(8, 4))\n",
    "plt.bar(top_features, top_importances, color='salmon')\n",
    "\n",
    "plt.xticks(rotation=90, fontsize=12)\n",
    "plt.ylabel('Feature Importance', fontsize=14)\n",
    "plt.xlabel('Features', fontsize=14)\n",
    "plt.title('Top 10 Feature Importance (Variance Reduction)', fontsize=16)\n",
    "\n",
    "plt.show()"
   ]
  },
  {
   "cell_type": "markdown",
   "metadata": {},
   "source": [
    "### Feature importance: SHAP values"
   ]
  },
  {
   "cell_type": "code",
   "execution_count": 113,
   "metadata": {},
   "outputs": [],
   "source": [
    "explainer = shap.Explainer(catboost_model)\n",
    "shap_values = explainer(df_X_train)"
   ]
  },
  {
   "cell_type": "code",
   "execution_count": 114,
   "metadata": {},
   "outputs": [
    {
     "data": {
      "image/png": "[encoded data removed]",
      "text/plain": [
       "<Figure size 800x950 with 2 Axes>"
      ]
     },
     "metadata": {},
     "output_type": "display_data"
    }
   ],
   "source": [
    "plt.title('SHAP Summary: Feature Impact on Model Output', fontsize=16)\n",
    "shap.summary_plot(shap_values, df_X_train)"
   ]
  },
  {
   "cell_type": "code",
   "execution_count": 217,
   "metadata": {},
   "outputs": [
    {
     "data": {
      "image/png": "[encoded data removed]",
      "text/plain": [
       "<Figure size 600x500 with 2 Axes>"
      ]
     },
     "metadata": {},
     "output_type": "display_data"
    }
   ],
   "source": [
    "feature = \"log_to_rel_diff\"\n",
    "shap.plots.scatter(shap_values[:, feature], title= \"SHAP values for feature log_to_rel_diff\")"
   ]
  },
  {
   "cell_type": "markdown",
   "metadata": {},
   "source": [
    "# Feature selection for the best model (Catboost)"
   ]
  },
  {
   "cell_type": "code",
   "execution_count": 202,
   "metadata": {},
   "outputs": [
    {
     "data": {
      "application/vnd.jupyter.widget-view+json": {
       "model_id": "16d94029565b470c8410bb5b5ecbd6a4",
       "version_major": 2,
       "version_minor": 0
      },
      "text/plain": [
       "MetricVisualizer(layout=Layout(align_self='stretch', height='500px'))"
      ]
     },
     "metadata": {},
     "output_type": "display_data"
    },
    {
     "data": {
      "application/vnd.plotly.v1+json": {
       "config": {
        "plotlyServerURL": "https://plot.ly"
       },
       "data": [
        {
         "line": {
          "color": "rgb(51,160,44)"
         },
         "mode": "lines+markers",
         "name": "",
         "text": [
          "",
          "mom",
          "log_to_rel_diff",
          "log_size",
          "log_pcf_rel_diff",
          "log_price",
          "market_cap",
          "log_pcf",
          "log_bm_diff",
          "log_pcf_diff",
          "log_age_lb_diff",
          "log_to_diff",
          "roa",
          "roe",
          "log_age_lb",
          "price",
          "capm_return",
          "log_size_rel_diff",
          "log_bm_rel_diff",
          "mom_rel_diff",
          "strev_rel_diff",
          "roa_rel_diff",
          "strev",
          "log_price_diff",
          "log_bm",
          "log_size_diff",
          "ols_3m_d_rel_diff",
          "vol_rel_diff",
          "rm",
          "log_to",
          "vol",
          "roe_rel_diff",
          "ols_5y_m",
          "rf",
          "ols_3m_d"
         ],
         "type": "scatter",
         "x": [
          0,
          1,
          2,
          3,
          4,
          5,
          6,
          7,
          8,
          9,
          10,
          11,
          12,
          13,
          14,
          15,
          16,
          17,
          18,
          19,
          20,
          21,
          22,
          23,
          24,
          25,
          26,
          27,
          28,
          29,
          30,
          31,
          32,
          33,
          34
         ],
         "y": [
          0.4009459587424664,
          0.4005761616702047,
          0.40023272731003084,
          0.4001772297471532,
          0.4001649087958129,
          0.40015666492168,
          0.4001528193654663,
          0.40015248841689577,
          0.40015248841689577,
          0.40015248841689577,
          0.40015248841689577,
          0.40015248841689577,
          0.40015248841689577,
          0.40015248841689577,
          0.40015248841689577,
          0.40015248841689577,
          0.40015248841689577,
          0.40015248841689577,
          0.40015248841689577,
          0.40015248841689577,
          0.40015248841689577,
          0.40015248841689577,
          0.40015766285183935,
          0.4001659382583885,
          0.4001751865129665,
          0.4001851224843283,
          0.40019578234682407,
          0.4002120038707512,
          0.4002310318749528,
          0.40027850876664567,
          0.4004183774055113,
          0.4006867697457341,
          0.4012251316835718,
          0.40280301972263494,
          0.40580507000923016
         ]
        },
        {
         "marker": {
          "size": 10,
          "symbol": "square"
         },
         "mode": "markers",
         "name": "",
         "text": [
          "",
          "ols_3m_d"
         ],
         "type": "scatter",
         "x": [
          0,
          34
         ],
         "y": [
          0.4009459587424664,
          0.40580507000923016
         ]
        },
        {
         "mode": "text",
         "name": "",
         "text": [
          "",
          "3",
          "26",
          "0",
          "20",
          "28",
          "16",
          "2",
          "30",
          "31",
          "32",
          "34",
          "6",
          "7",
          "8",
          "9",
          "17",
          "18",
          "19",
          "21",
          "22",
          "24",
          "4",
          "33",
          "1",
          "29",
          "27",
          "23",
          "12",
          "10",
          "5",
          "25",
          "15",
          "11",
          "13"
         ],
         "textfont": {
          "color": "rgb(51,160,44)",
          "family": "sans serif",
          "size": 18
         },
         "textposition": "bottom center",
         "type": "scatter",
         "visible": false,
         "x": [
          0,
          1,
          2,
          3,
          4,
          5,
          6,
          7,
          8,
          9,
          10,
          11,
          12,
          13,
          14,
          15,
          16,
          17,
          18,
          19,
          20,
          21,
          22,
          23,
          24,
          25,
          26,
          27,
          28,
          29,
          30,
          31,
          32,
          33,
          34
         ],
         "y": [
          0.4009459587424664,
          0.4005761616702047,
          0.40023272731003084,
          0.4001772297471532,
          0.4001649087958129,
          0.40015666492168,
          0.4001528193654663,
          0.40015248841689577,
          0.40015248841689577,
          0.40015248841689577,
          0.40015248841689577,
          0.40015248841689577,
          0.40015248841689577,
          0.40015248841689577,
          0.40015248841689577,
          0.40015248841689577,
          0.40015248841689577,
          0.40015248841689577,
          0.40015248841689577,
          0.40015248841689577,
          0.40015248841689577,
          0.40015248841689577,
          0.40015766285183935,
          0.4001659382583885,
          0.4001751865129665,
          0.4001851224843283,
          0.40019578234682407,
          0.4002120038707512,
          0.4002310318749528,
          0.40027850876664567,
          0.4004183774055113,
          0.4006867697457341,
          0.4012251316835718,
          0.40280301972263494,
          0.40580507000923016
         ]
        },
        {
         "mode": "text",
         "name": "",
         "text": [
          "",
          "mom",
          "log_to_rel_diff",
          "log_size",
          "log_pcf_rel_diff",
          "log_price",
          "market_cap",
          "log_pcf",
          "log_bm_diff",
          "log_pcf_diff",
          "log_age_lb_diff",
          "log_to_diff",
          "roa",
          "roe",
          "log_age_lb",
          "price",
          "capm_return",
          "log_size_rel_diff",
          "log_bm_rel_diff",
          "mom_rel_diff",
          "strev_rel_diff",
          "roa_rel_diff",
          "strev",
          "log_price_diff",
          "log_bm",
          "log_size_diff",
          "ols_3m_d_rel_diff",
          "vol_rel_diff",
          "rm",
          "log_to",
          "vol",
          "roe_rel_diff",
          "ols_5y_m",
          "rf",
          "ols_3m_d"
         ],
         "textfont": {
          "color": "rgb(51,160,44)",
          "family": "sans serif",
          "size": 18
         },
         "textposition": "bottom center",
         "type": "scatter",
         "visible": false,
         "x": [
          0,
          1,
          2,
          3,
          4,
          5,
          6,
          7,
          8,
          9,
          10,
          11,
          12,
          13,
          14,
          15,
          16,
          17,
          18,
          19,
          20,
          21,
          22,
          23,
          24,
          25,
          26,
          27,
          28,
          29,
          30,
          31,
          32,
          33,
          34
         ],
         "y": [
          0.4009459587424664,
          0.4005761616702047,
          0.40023272731003084,
          0.4001772297471532,
          0.4001649087958129,
          0.40015666492168,
          0.4001528193654663,
          0.40015248841689577,
          0.40015248841689577,
          0.40015248841689577,
          0.40015248841689577,
          0.40015248841689577,
          0.40015248841689577,
          0.40015248841689577,
          0.40015248841689577,
          0.40015248841689577,
          0.40015248841689577,
          0.40015248841689577,
          0.40015248841689577,
          0.40015248841689577,
          0.40015248841689577,
          0.40015248841689577,
          0.40015766285183935,
          0.4001659382583885,
          0.4001751865129665,
          0.4001851224843283,
          0.40019578234682407,
          0.4002120038707512,
          0.4002310318749528,
          0.40027850876664567,
          0.4004183774055113,
          0.4006867697457341,
          0.4012251316835718,
          0.40280301972263494,
          0.40580507000923016
         ]
        }
       ],
       "layout": {
        "showlegend": false,
        "template": {
         "data": {
          "bar": [
           {
            "error_x": {
             "color": "#2a3f5f"
            },
            "error_y": {
             "color": "#2a3f5f"
            },
            "marker": {
             "line": {
              "color": "#E5ECF6",
              "width": 0.5
             },
             "pattern": {
              "fillmode": "overlay",
              "size": 10,
              "solidity": 0.2
             }
            },
            "type": "bar"
           }
          ],
          "barpolar": [
           {
            "marker": {
             "line": {
              "color": "#E5ECF6",
              "width": 0.5
             },
             "pattern": {
              "fillmode": "overlay",
              "size": 10,
              "solidity": 0.2
             }
            },
            "type": "barpolar"
           }
          ],
          "carpet": [
           {
            "aaxis": {
             "endlinecolor": "#2a3f5f",
             "gridcolor": "white",
             "linecolor": "white",
             "minorgridcolor": "white",
             "startlinecolor": "#2a3f5f"
            },
            "baxis": {
             "endlinecolor": "#2a3f5f",
             "gridcolor": "white",
             "linecolor": "white",
             "minorgridcolor": "white",
             "startlinecolor": "#2a3f5f"
            },
            "type": "carpet"
           }
          ],
          "choropleth": [
           {
            "colorbar": {
             "outlinewidth": 0,
             "ticks": ""
            },
            "type": "choropleth"
           }
          ],
          "contour": [
           {
            "colorbar": {
             "outlinewidth": 0,
             "ticks": ""
            },
            "colorscale": [
             [
              0,
              "#0d0887"
             ],
             [
              0.1111111111111111,
              "#46039f"
             ],
             [
              0.2222222222222222,
              "#7201a8"
             ],
             [
              0.3333333333333333,
              "#9c179e"
             ],
             [
              0.4444444444444444,
              "#bd3786"
             ],
             [
              0.5555555555555556,
              "#d8576b"
             ],
             [
              0.6666666666666666,
              "#ed7953"
             ],
             [
              0.7777777777777778,
              "#fb9f3a"
             ],
             [
              0.8888888888888888,
              "#fdca26"
             ],
             [
              1,
              "#f0f921"
             ]
            ],
            "type": "contour"
           }
          ],
          "contourcarpet": [
           {
            "colorbar": {
             "outlinewidth": 0,
             "ticks": ""
            },
            "type": "contourcarpet"
           }
          ],
          "heatmap": [
           {
            "colorbar": {
             "outlinewidth": 0,
             "ticks": ""
            },
            "colorscale": [
             [
              0,
              "#0d0887"
             ],
             [
              0.1111111111111111,
              "#46039f"
             ],
             [
              0.2222222222222222,
              "#7201a8"
             ],
             [
              0.3333333333333333,
              "#9c179e"
             ],
             [
              0.4444444444444444,
              "#bd3786"
             ],
             [
              0.5555555555555556,
              "#d8576b"
             ],
             [
              0.6666666666666666,
              "#ed7953"
             ],
             [
              0.7777777777777778,
              "#fb9f3a"
             ],
             [
              0.8888888888888888,
              "#fdca26"
             ],
             [
              1,
              "#f0f921"
             ]
            ],
            "type": "heatmap"
           }
          ],
          "heatmapgl": [
           {
            "colorbar": {
             "outlinewidth": 0,
             "ticks": ""
            },
            "colorscale": [
             [
              0,
              "#0d0887"
             ],
             [
              0.1111111111111111,
              "#46039f"
             ],
             [
              0.2222222222222222,
              "#7201a8"
             ],
             [
              0.3333333333333333,
              "#9c179e"
             ],
             [
              0.4444444444444444,
              "#bd3786"
             ],
             [
              0.5555555555555556,
              "#d8576b"
             ],
             [
              0.6666666666666666,
              "#ed7953"
             ],
             [
              0.7777777777777778,
              "#fb9f3a"
             ],
             [
              0.8888888888888888,
              "#fdca26"
             ],
             [
              1,
              "#f0f921"
             ]
            ],
            "type": "heatmapgl"
           }
          ],
          "histogram": [
           {
            "marker": {
             "pattern": {
              "fillmode": "overlay",
              "size": 10,
              "solidity": 0.2
             }
            },
            "type": "histogram"
           }
          ],
          "histogram2d": [
           {
            "colorbar": {
             "outlinewidth": 0,
             "ticks": ""
            },
            "colorscale": [
             [
              0,
              "#0d0887"
             ],
             [
              0.1111111111111111,
              "#46039f"
             ],
             [
              0.2222222222222222,
              "#7201a8"
             ],
             [
              0.3333333333333333,
              "#9c179e"
             ],
             [
              0.4444444444444444,
              "#bd3786"
             ],
             [
              0.5555555555555556,
              "#d8576b"
             ],
             [
              0.6666666666666666,
              "#ed7953"
             ],
             [
              0.7777777777777778,
              "#fb9f3a"
             ],
             [
              0.8888888888888888,
              "#fdca26"
             ],
             [
              1,
              "#f0f921"
             ]
            ],
            "type": "histogram2d"
           }
          ],
          "histogram2dcontour": [
           {
            "colorbar": {
             "outlinewidth": 0,
             "ticks": ""
            },
            "colorscale": [
             [
              0,
              "#0d0887"
             ],
             [
              0.1111111111111111,
              "#46039f"
             ],
             [
              0.2222222222222222,
              "#7201a8"
             ],
             [
              0.3333333333333333,
              "#9c179e"
             ],
             [
              0.4444444444444444,
              "#bd3786"
             ],
             [
              0.5555555555555556,
              "#d8576b"
             ],
             [
              0.6666666666666666,
              "#ed7953"
             ],
             [
              0.7777777777777778,
              "#fb9f3a"
             ],
             [
              0.8888888888888888,
              "#fdca26"
             ],
             [
              1,
              "#f0f921"
             ]
            ],
            "type": "histogram2dcontour"
           }
          ],
          "mesh3d": [
           {
            "colorbar": {
             "outlinewidth": 0,
             "ticks": ""
            },
            "type": "mesh3d"
           }
          ],
          "parcoords": [
           {
            "line": {
             "colorbar": {
              "outlinewidth": 0,
              "ticks": ""
             }
            },
            "type": "parcoords"
           }
          ],
          "pie": [
           {
            "automargin": true,
            "type": "pie"
           }
          ],
          "scatter": [
           {
            "fillpattern": {
             "fillmode": "overlay",
             "size": 10,
             "solidity": 0.2
            },
            "type": "scatter"
           }
          ],
          "scatter3d": [
           {
            "line": {
             "colorbar": {
              "outlinewidth": 0,
              "ticks": ""
             }
            },
            "marker": {
             "colorbar": {
              "outlinewidth": 0,
              "ticks": ""
             }
            },
            "type": "scatter3d"
           }
          ],
          "scattercarpet": [
           {
            "marker": {
             "colorbar": {
              "outlinewidth": 0,
              "ticks": ""
             }
            },
            "type": "scattercarpet"
           }
          ],
          "scattergeo": [
           {
            "marker": {
             "colorbar": {
              "outlinewidth": 0,
              "ticks": ""
             }
            },
            "type": "scattergeo"
           }
          ],
          "scattergl": [
           {
            "marker": {
             "colorbar": {
              "outlinewidth": 0,
              "ticks": ""
             }
            },
            "type": "scattergl"
           }
          ],
          "scattermapbox": [
           {
            "marker": {
             "colorbar": {
              "outlinewidth": 0,
              "ticks": ""
             }
            },
            "type": "scattermapbox"
           }
          ],
          "scatterpolar": [
           {
            "marker": {
             "colorbar": {
              "outlinewidth": 0,
              "ticks": ""
             }
            },
            "type": "scatterpolar"
           }
          ],
          "scatterpolargl": [
           {
            "marker": {
             "colorbar": {
              "outlinewidth": 0,
              "ticks": ""
             }
            },
            "type": "scatterpolargl"
           }
          ],
          "scatterternary": [
           {
            "marker": {
             "colorbar": {
              "outlinewidth": 0,
              "ticks": ""
             }
            },
            "type": "scatterternary"
           }
          ],
          "surface": [
           {
            "colorbar": {
             "outlinewidth": 0,
             "ticks": ""
            },
            "colorscale": [
             [
              0,
              "#0d0887"
             ],
             [
              0.1111111111111111,
              "#46039f"
             ],
             [
              0.2222222222222222,
              "#7201a8"
             ],
             [
              0.3333333333333333,
              "#9c179e"
             ],
             [
              0.4444444444444444,
              "#bd3786"
             ],
             [
              0.5555555555555556,
              "#d8576b"
             ],
             [
              0.6666666666666666,
              "#ed7953"
             ],
             [
              0.7777777777777778,
              "#fb9f3a"
             ],
             [
              0.8888888888888888,
              "#fdca26"
             ],
             [
              1,
              "#f0f921"
             ]
            ],
            "type": "surface"
           }
          ],
          "table": [
           {
            "cells": {
             "fill": {
              "color": "#EBF0F8"
             },
             "line": {
              "color": "white"
             }
            },
            "header": {
             "fill": {
              "color": "#C8D4E3"
             },
             "line": {
              "color": "white"
             }
            },
            "type": "table"
           }
          ]
         },
         "layout": {
          "annotationdefaults": {
           "arrowcolor": "#2a3f5f",
           "arrowhead": 0,
           "arrowwidth": 1
          },
          "autotypenumbers": "strict",
          "coloraxis": {
           "colorbar": {
            "outlinewidth": 0,
            "ticks": ""
           }
          },
          "colorscale": {
           "diverging": [
            [
             0,
             "#8e0152"
            ],
            [
             0.1,
             "#c51b7d"
            ],
            [
             0.2,
             "#de77ae"
            ],
            [
             0.3,
             "#f1b6da"
            ],
            [
             0.4,
             "#fde0ef"
            ],
            [
             0.5,
             "#f7f7f7"
            ],
            [
             0.6,
             "#e6f5d0"
            ],
            [
             0.7,
             "#b8e186"
            ],
            [
             0.8,
             "#7fbc41"
            ],
            [
             0.9,
             "#4d9221"
            ],
            [
             1,
             "#276419"
            ]
           ],
           "sequential": [
            [
             0,
             "#0d0887"
            ],
            [
             0.1111111111111111,
             "#46039f"
            ],
            [
             0.2222222222222222,
             "#7201a8"
            ],
            [
             0.3333333333333333,
             "#9c179e"
            ],
            [
             0.4444444444444444,
             "#bd3786"
            ],
            [
             0.5555555555555556,
             "#d8576b"
            ],
            [
             0.6666666666666666,
             "#ed7953"
            ],
            [
             0.7777777777777778,
             "#fb9f3a"
            ],
            [
             0.8888888888888888,
             "#fdca26"
            ],
            [
             1,
             "#f0f921"
            ]
           ],
           "sequentialminus": [
            [
             0,
             "#0d0887"
            ],
            [
             0.1111111111111111,
             "#46039f"
            ],
            [
             0.2222222222222222,
             "#7201a8"
            ],
            [
             0.3333333333333333,
             "#9c179e"
            ],
            [
             0.4444444444444444,
             "#bd3786"
            ],
            [
             0.5555555555555556,
             "#d8576b"
            ],
            [
             0.6666666666666666,
             "#ed7953"
            ],
            [
             0.7777777777777778,
             "#fb9f3a"
            ],
            [
             0.8888888888888888,
             "#fdca26"
            ],
            [
             1,
             "#f0f921"
            ]
           ]
          },
          "colorway": [
           "#636efa",
           "#EF553B",
           "#00cc96",
           "#ab63fa",
           "#FFA15A",
           "#19d3f3",
           "#FF6692",
           "#B6E880",
           "#FF97FF",
           "#FECB52"
          ],
          "font": {
           "color": "#2a3f5f"
          },
          "geo": {
           "bgcolor": "white",
           "lakecolor": "white",
           "landcolor": "#E5ECF6",
           "showlakes": true,
           "showland": true,
           "subunitcolor": "white"
          },
          "hoverlabel": {
           "align": "left"
          },
          "hovermode": "closest",
          "mapbox": {
           "style": "light"
          },
          "paper_bgcolor": "white",
          "plot_bgcolor": "#E5ECF6",
          "polar": {
           "angularaxis": {
            "gridcolor": "white",
            "linecolor": "white",
            "ticks": ""
           },
           "bgcolor": "#E5ECF6",
           "radialaxis": {
            "gridcolor": "white",
            "linecolor": "white",
            "ticks": ""
           }
          },
          "scene": {
           "xaxis": {
            "backgroundcolor": "#E5ECF6",
            "gridcolor": "white",
            "gridwidth": 2,
            "linecolor": "white",
            "showbackground": true,
            "ticks": "",
            "zerolinecolor": "white"
           },
           "yaxis": {
            "backgroundcolor": "#E5ECF6",
            "gridcolor": "white",
            "gridwidth": 2,
            "linecolor": "white",
            "showbackground": true,
            "ticks": "",
            "zerolinecolor": "white"
           },
           "zaxis": {
            "backgroundcolor": "#E5ECF6",
            "gridcolor": "white",
            "gridwidth": 2,
            "linecolor": "white",
            "showbackground": true,
            "ticks": "",
            "zerolinecolor": "white"
           }
          },
          "shapedefaults": {
           "line": {
            "color": "#2a3f5f"
           }
          },
          "ternary": {
           "aaxis": {
            "gridcolor": "white",
            "linecolor": "white",
            "ticks": ""
           },
           "baxis": {
            "gridcolor": "white",
            "linecolor": "white",
            "ticks": ""
           },
           "bgcolor": "#E5ECF6",
           "caxis": {
            "gridcolor": "white",
            "linecolor": "white",
            "ticks": ""
           }
          },
          "title": {
           "x": 0.05
          },
          "xaxis": {
           "automargin": true,
           "gridcolor": "white",
           "linecolor": "white",
           "ticks": "",
           "title": {
            "standoff": 15
           },
           "zerolinecolor": "white",
           "zerolinewidth": 2
          },
          "yaxis": {
           "automargin": true,
           "gridcolor": "white",
           "linecolor": "white",
           "ticks": "",
           "title": {
            "standoff": 15
           },
           "zerolinecolor": "white",
           "zerolinewidth": 2
          }
         }
        },
        "title": {
         "text": "Loss by eliminated features"
        },
        "updatemenus": [
         {
          "active": 0,
          "buttons": [
           {
            "args": [
             {
              "visible": [
               true,
               true,
               false,
               false
              ]
             }
            ],
            "label": "Hide features",
            "method": "update"
           },
           {
            "args": [
             {
              "visible": [
               true,
               true,
               true,
               false
              ]
             }
            ],
            "label": "Show indices",
            "method": "update"
           },
           {
            "args": [
             {
              "visible": [
               true,
               true,
               false,
               true
              ]
             }
            ],
            "label": "Show names",
            "method": "update"
           }
          ],
          "pad": {
           "r": 10,
           "t": 10
          },
          "showactive": true,
          "x": -0.25,
          "xanchor": "left",
          "y": 1.03,
          "yanchor": "top"
         }
        ],
        "xaxis": {
         "gridcolor": "rgb(255,255,255)",
         "showgrid": true,
         "showline": false,
         "showticklabels": true,
         "tickcolor": "rgb(127,127,127)",
         "ticks": "outside",
         "title": {
          "text": "number of removed features"
         },
         "zeroline": false
        },
        "yaxis": {
         "gridcolor": "rgb(255,255,255)",
         "showgrid": true,
         "showline": false,
         "showticklabels": true,
         "tickcolor": "rgb(127,127,127)",
         "tickfont": {
          "color": "rgb(51,160,44)"
         },
         "ticks": "outside",
         "title": {
          "font": {
           "color": "rgb(51,160,44)"
          },
          "text": "loss value"
         },
         "zeroline": false
        }
       }
      }
     },
     "metadata": {},
     "output_type": "display_data"
    }
   ],
   "source": [
    "model = CatBoostRegressor(iterations=900, random_seed=0)\n",
    "summary = model.select_features(\n",
    "    train_pool,\n",
    "    eval_set=validation_pool,\n",
    "    features_for_select='0-34', \n",
    "    num_features_to_select=1,  \n",
    "    steps=1, \n",
    "    algorithm=EFeaturesSelectionAlgorithm.RecursiveByShapValues,\n",
    "    shap_calc_type=EShapCalcType.Regular,\n",
    "    train_final_model=True, # The only parameter that can be selected based on cross-validation is the number of iterations. Select the best iteration based on the information of the cv results and train the final model with this number of iterations.\n",
    "    logging_level='Silent',\n",
    "    plot=True\n",
    ")"
   ]
  },
  {
   "cell_type": "markdown",
   "metadata": {},
   "source": [
    "# OOS forecast using our best model (Catboost)"
   ]
  },
  {
   "cell_type": "code",
   "execution_count": 140,
   "metadata": {},
   "outputs": [],
   "source": [
    "df_X_testoos = df.loc[beginning_oos:, L_features]\n",
    "df_y_testoos = df.loc[beginning_oos:, target_name]\n",
    "\n",
    "testoos_pool = cb.Pool(df_X_testoos, df_y_testoos)\n",
    "\n",
    "testoos_forecast = pd.DataFrame(catboost_model.predict(testoos_pool),  index = df_X_testoos.index, columns=[\"forecast\"])\n",
    "df_true = pd.DataFrame(df_y_testoos, columns=[\"f_ols_1y_d\"])\n",
    "df_oos_res = pd.concat([testoos_forecast, df_true, df[[\"market_cap\"]]], join=\"inner\", axis=1)"
   ]
  },
  {
   "cell_type": "code",
   "execution_count": 143,
   "metadata": {},
   "outputs": [],
   "source": [
    "mse_oos = utils.mse(df_oos_res, 'forecast', 'f_ols_1y_d', beginning_oos, end_oos)\n",
    "mape_oos =  utils.mape(df_oos_res, 'forecast', 'f_ols_1y_d', beginning_oos, end_oos)\n",
    "w_mse_oos = utils.value_weighted_mse(df_oos_res, 'forecast', 'f_ols_1y_d', beginning_oos, end_oos)\n",
    "w_mape_oos = utils.value_weighted_mape(df_oos_res, 'forecast', 'f_ols_1y_d', beginning_oos, end_oos)\n",
    "df_res_oos = pd.DataFrame({\"MSE_oos\": [mse_oos], \"MAPE_oos\": [mape_oos], \"WMSE_oos\":[w_mse_oos], \"WMAPE_oos\":[w_mape_oos]})"
   ]
  },
  {
   "cell_type": "code",
   "execution_count": 144,
   "metadata": {},
   "outputs": [
    {
     "data": {
      "text/html": [
       "<div>\n",
       "<style scoped>\n",
       "    .dataframe tbody tr th:only-of-type {\n",
       "        vertical-align: middle;\n",
       "    }\n",
       "\n",
       "    .dataframe tbody tr th {\n",
       "        vertical-align: top;\n",
       "    }\n",
       "\n",
       "    .dataframe thead th {\n",
       "        text-align: right;\n",
       "    }\n",
       "</style>\n",
       "<table border=\"1\" class=\"dataframe\">\n",
       "  <thead>\n",
       "    <tr style=\"text-align: right;\">\n",
       "      <th></th>\n",
       "      <th>MSE_oos</th>\n",
       "      <th>MAPE_oos</th>\n",
       "      <th>WMSE_oos</th>\n",
       "      <th>WMAPE_oos</th>\n",
       "    </tr>\n",
       "  </thead>\n",
       "  <tbody>\n",
       "    <tr>\n",
       "      <th>0</th>\n",
       "      <td>0.127325</td>\n",
       "      <td>36.423796</td>\n",
       "      <td>0.080714</td>\n",
       "      <td>30.155864</td>\n",
       "    </tr>\n",
       "  </tbody>\n",
       "</table>\n",
       "</div>"
      ],
      "text/plain": [
       "    MSE_oos   MAPE_oos  WMSE_oos  WMAPE_oos\n",
       "0  0.127325  36.423796  0.080714  30.155864"
      ]
     },
     "execution_count": 144,
     "metadata": {},
     "output_type": "execute_result"
    }
   ],
   "source": [
    "df_res_oos"
   ]
  },
  {
   "cell_type": "markdown",
   "metadata": {},
   "source": [
    "# OOS Benchmark"
   ]
  },
  {
   "cell_type": "code",
   "execution_count": 228,
   "metadata": {},
   "outputs": [],
   "source": [
    "L = []\n",
    "\n",
    "for col in ['ols_3m_d', 'ols_1y_d', 'ols_5y_m']: \n",
    "\n",
    "    mse_oos = utils.mse(df, col, 'f_ols_1y_d', beginning_oos, end_oos)\n",
    "    mape_oos =  utils.mape(df, col, 'f_ols_1y_d', beginning_oos, end_oos)\n",
    "    w_mse_oos = utils.value_weighted_mse(df, col, 'f_ols_1y_d', beginning_oos, end_oos)\n",
    "    w_mape_oos = utils.value_weighted_mape(df, col, 'f_ols_1y_d', beginning_oos, end_oos)\n",
    "    df_res_oos = pd.DataFrame({\"MSE_oos\": [mse_oos], \"MAPE_oos\": [mape_oos], \"WMSE_oos\":[w_mse_oos], \"WMAPE_oos\":[w_mape_oos]})\n",
    "    df_res_oos[\"benchmark\"] = [col]\n",
    "    L.append(df_res_oos)\n",
    "\n",
    "df_benchmark = pd.concat(L, axis=0)"
   ]
  },
  {
   "cell_type": "code",
   "execution_count": 229,
   "metadata": {},
   "outputs": [
    {
     "data": {
      "text/html": [
       "<div>\n",
       "<style scoped>\n",
       "    .dataframe tbody tr th:only-of-type {\n",
       "        vertical-align: middle;\n",
       "    }\n",
       "\n",
       "    .dataframe tbody tr th {\n",
       "        vertical-align: top;\n",
       "    }\n",
       "\n",
       "    .dataframe thead th {\n",
       "        text-align: right;\n",
       "    }\n",
       "</style>\n",
       "<table border=\"1\" class=\"dataframe\">\n",
       "  <thead>\n",
       "    <tr style=\"text-align: right;\">\n",
       "      <th></th>\n",
       "      <th>MSE_oos</th>\n",
       "      <th>MAPE_oos</th>\n",
       "      <th>WMSE_oos</th>\n",
       "      <th>WMAPE_oos</th>\n",
       "      <th>benchmark</th>\n",
       "    </tr>\n",
       "  </thead>\n",
       "  <tbody>\n",
       "    <tr>\n",
       "      <th>0</th>\n",
       "      <td>0.283674</td>\n",
       "      <td>44.842844</td>\n",
       "      <td>0.149922</td>\n",
       "      <td>34.236146</td>\n",
       "      <td>ols_3m_d</td>\n",
       "    </tr>\n",
       "    <tr>\n",
       "      <th>0</th>\n",
       "      <td>0.180875</td>\n",
       "      <td>39.430229</td>\n",
       "      <td>0.111227</td>\n",
       "      <td>31.478562</td>\n",
       "      <td>ols_1y_d</td>\n",
       "    </tr>\n",
       "    <tr>\n",
       "      <th>0</th>\n",
       "      <td>0.147770</td>\n",
       "      <td>38.383919</td>\n",
       "      <td>0.112128</td>\n",
       "      <td>34.098121</td>\n",
       "      <td>ols_5y_m</td>\n",
       "    </tr>\n",
       "  </tbody>\n",
       "</table>\n",
       "</div>"
      ],
      "text/plain": [
       "    MSE_oos   MAPE_oos  WMSE_oos  WMAPE_oos benchmark\n",
       "0  0.283674  44.842844  0.149922  34.236146  ols_3m_d\n",
       "0  0.180875  39.430229  0.111227  31.478562  ols_1y_d\n",
       "0  0.147770  38.383919  0.112128  34.098121  ols_5y_m"
      ]
     },
     "execution_count": 229,
     "metadata": {},
     "output_type": "execute_result"
    }
   ],
   "source": [
    "df_benchmark"
   ]
  },
  {
   "cell_type": "code",
   "execution_count": null,
   "metadata": {},
   "outputs": [],
   "source": []
  },
  {
   "cell_type": "code",
   "execution_count": null,
   "metadata": {},
   "outputs": [],
   "source": []
  }
 ],
 "metadata": {
  "kernelspec": {
   "display_name": "Python 3",
   "language": "python",
   "name": "python3"
  },
  "language_info": {
   "codemirror_mode": {
    "name": "ipython",
    "version": 3
   },
   "file_extension": ".py",
   "mimetype": "text/x-python",
   "name": "python",
   "nbconvert_exporter": "python",
   "pygments_lexer": "ipython3",
   "version": "3.9.6"
  }
 },
 "nbformat": 4,
 "nbformat_minor": 2
}
